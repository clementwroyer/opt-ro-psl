{
 "cells": [
  {
   "cell_type": "markdown",
   "metadata": {},
   "source": [
    "### <span style=\"color:rgb(46,139,87)\">Optimisation-RO</span>\n",
    "\n",
    "### <span style=\"color:rgb(46,139,87)\">Certification Chef de projet IA 2022-2023</span>\n",
    "\n",
    "\n",
    "# <span style=\"color:rgb(46,139,87)\">Notebook de la séance 1 - Optimisation convexe</span>\n",
    "\n",
    "\n",
    "Pour tout commentaire concernant ce notebook (y compris les typos), merci d'envoyer un mail à **clement.royer@lamsade.dauphine.fr**."
   ]
  },
  {
   "cell_type": "markdown",
   "metadata": {},
   "source": [
    "#  <span style=\"color:rgb(46,139,87)\">Introduction</span>"
   ]
  },
  {
   "cell_type": "markdown",
   "metadata": {},
   "source": [
    "Le but de cette session est d'illustrer des propriétés des problèmes d'optimisation convexe, via l'utilisation d'algorithmes existants pour résoudre des problèmes d'optimisation convexe apparemment complexes.\n",
    "\n",
    "*Note : Si les différentes parties de ce notebook sont construites de sorte à être indépendantes, les blocs sont fait pour être exécutés de manière séquentielle. On prendra notamment soin d'exécuter le bloc ci-dessous (qui importe des bibliothèques et fonctions utiles) en premier.*"
   ]
  },
  {
   "cell_type": "code",
   "execution_count": 50,
   "metadata": {},
   "outputs": [],
   "source": [
    "# Imports des bibliothèques et fonctions utiles\n",
    "###############################################\n",
    "\n",
    "# Affichage\n",
    "%matplotlib inline\n",
    "import matplotlib.pyplot as plt\n",
    "\n",
    "from math import sqrt # Racine carrée\n",
    "from math import ceil # Partie entière supérieure\n",
    "from math import log # Logarithme\n",
    "\n",
    "# NumPy - Structures vectorielles et matricielles\n",
    "import numpy as np # Bibliothèque complète\n",
    "from numpy.random import multivariate_normal, randn, uniform, choice, normal, laplace # distributions de probabilité\n",
    "\n",
    "# SciPy - Calculs mathématiques efficaces\n",
    "from scipy.linalg import norm # normes classiques\n",
    "from scipy.linalg.special_matrices import toeplitz # matrices de Toeplitz\n",
    "from scipy.linalg import svdvals # décomposition en valeurs singulières\n",
    "from scipy.linalg import qr # factorisation QR\n",
    "from scipy.linalg import sqrtm # Racine carree de matrice\n",
    "from scipy.linalg import pinv # Inverse de matrice carree\n",
    "from scipy.optimize import check_grad # Vérification des dérivées\n",
    "\n",
    "# Solveurs d'optimisation dans SciPy\n",
    "# - linprog : Programmation linéaire\n",
    "# - lsq_linear : Moindres carrés linéaires\n",
    "from scipy.optimize import fmin_l_bfgs_b, linprog, lsq_linear"
   ]
  },
  {
   "cell_type": "markdown",
   "metadata": {},
   "source": [
    "Ce notebook utilise des routines des bibliothèques NumPy and Scipy *(sur Google Colab par défaut, à installer sur votre distribution locale).* Voici un lien vers un bon [tutoriel Numpy (en anglais](https://sebastianraschka.com/pdf/books/dlb/appendix_f_numpy-intro.pdf).\n",
    "\n",
    "**Fonctions NumPy utiles (cf documentation pour plus d'informations)**\n",
    "\n",
    "* *transpose* transposée de matrice (i.e. tableau NumPy bi-dimensionnel). On peut aussi utiliser X.T\n",
    "* *matmul* produit matrice-matrice (les dimensions doivent être compatibles).\n",
    "* *dot* produit matrice-vector (si les dimensions sont compatibles), aussi utilisable comme opérateur de produit scalaire entre deux vecteurs de même taille.\n",
    "* *np.ones((m,n))* matrice de taille m x n avec composantes égales à 1. \n",
    "* *np.zeros((m,n))* matrice de taille m x n avec composantes égales à 0.\n",
    "* *np.identity(n)* matrice identité de taille n x n.\n",
    "* *np.pi* $\\pi$.\n",
    "* *np.inf* nombre infini en mémoire.\n",
    "* *np.log* logarithme appliqué à chaque coordonnée des tableaux NumPy.\n",
    "* *np.exp* exponentielle appliquée à chaque coordonnée des tableaux NumPy.\n",
    "* *np.sum* somme des composantes d'un tableau NumPy (pour les matrices, somme selon une dimension)\n",
    "* *np.maximum(u,v)* renvoie un tableau NumPy array dont les composantes sont $max(u_i,v_i)$, si $u_i$ et $v_i$ sont celles de $u$ et $v$.\n",
    "* *np.concatenate* concatène des tableaux NumPy (vecteurs, matrices) de dimensions compatibles.\n",
    "* Si t est un tableau NumPy, la fonction *t.shape* renvoie les dimension(s) de ce tableau (utile lorsque l'on cherche à définir un tableau avec les mêmes dimensions.)"
   ]
  },
  {
   "cell_type": "markdown",
   "metadata": {},
   "source": [
    "# <span style=\"color:rgb(46,139,87)\">Partie 1 - Maxima de vraisemblance et programmation convexe</span>"
   ]
  },
  {
   "cell_type": "markdown",
   "metadata": {},
   "source": [
    "Dans cette partie, on s'intéresse à une génération de données à partir d'une tendance linéaire. On considère ainsi un jeu de données $\\{(\\mathbf{x}_i,y_i)\\}_{i=1,\\dots,n}$, avec $\\mathbf{x}_i \\in \\mathbb{R}^d$ et $y_i \\in \\mathbb{R}$, et on suppose qu'il existe $\\mathbf{w}^* \\in \\mathbb{R}^d$ tel que \n",
    "$$\n",
    "    \\forall i=1,\\dots,n, \\quad y_i = \\mathbf{x}_i^T \\mathbf{w}^* + \\epsilon_i,\n",
    "$$\n",
    "où les $\\epsilon_i$ seront des variables aléatoires indépendantes et identiquement distribuées selon l'une des lois suivantes :\n",
    " - a) Loi gaussienne de moyenne $0$ et de variance $\\lambda>0$;\n",
    " - b) Loi de Laplace de moyenne $0$ et de paramètre d'échelle $\\lambda>0$;\n",
    " - c) Loi uniforme sur l'intervalle $[-\\lambda,\\lambda]$.\n",
    " \n",
    "Pour chacun de ces choix, on cherchera à calculer le problème de maximum de la vraisemblance via la résolution d'un problème d'optimisation convexe dédié, de la forme \n",
    "$$\n",
    "    \\begin{array}{lll}\n",
    "        \\mbox{minimiser}_{\\mathbf{z} \\in \\mathbb{R}^d} &f(\\mathbf{z}) \\\\\n",
    "        \\mbox{s.c.}  &\\mathbf{z} \\in \\mathcal{F}.\n",
    "    \\end{array}\n",
    "$$\n",
    "avec $d \\ge n$, $f$ une fonction convexe et $\\mathcal{F} \\subseteq \\mathbb{R}^d$ décrit par un ensemble de contraintes d'inégalité convexes et d'égalité linéaires (possiblement vide, auquel cas cet ensemble sera égal à $\\mathbb{R}^d$)."
   ]
  },
  {
   "cell_type": "markdown",
   "metadata": {},
   "source": [
    "## <span style=\"color:rgb(46,139,87)\">1.1 Modèles linéaires et données bruitées</span>"
   ]
  },
  {
   "cell_type": "markdown",
   "metadata": {},
   "source": [
    "Par définition, les $\\epsilon_i$ (et donc les $y_i$) sont des variables aléatoires i.i.d. La densité de probabilité du vecteur $\\mathbf{y}$ sera donc donnée par le produit des densités marginales des $y_i$. On a donc les résultats suivants pour chacun des cas possibles:\n",
    "\n",
    "a) $y_i$ suit une loi normale $\\mathcal{N}(\\mathbf{x}_i^T \\mathbf{w}^*, \\lambda)$.\n",
    "$$\n",
    "p(\\mathbf{y}) = \\frac{1}{(2\\pi\\lambda)^{n/2}} \n",
    "\\exp\\left[ - \\frac{\\|\\mathbf{y}-\\mathbf{X w^*}\\|^2}{2 \\lambda} \\right].\n",
    "$$\n",
    "b) $y_i$ suit une loi de Laplace $\\mathcal{N}(\\mathbf{x}_i^T \\mathbf{w}^*, \\lambda)$.\n",
    "$$\n",
    "p(\\mathbf{y}) = \\frac{1}{(2\\lambda)^n} \n",
    "\\exp\\left[ - \\frac{\\|\\mathbf{y}-\\mathbf{X} \\mathbf{w}^*\\|_1}{\\lambda} \\right].\n",
    "$$\n",
    "c) $y_i$ suit une loi uniforme sur $[-\\lambda+\\mathbf{x}_i^T \\mathbf{w}^*,\\mathbf{x}_i^T \\mathbf{w}^*+\\lambda]$.\n",
    "$$\n",
    "p(\\mathbf{y}) = \\frac{1}{(2\\lambda)^n} \\prod_{i=1}^n \\mathbf{1}_{[-\\lambda+\\mathbf{x}_i^T \\mathbf{w}^*,\\mathbf{x}_i^T \\mathbf{w}^*+\\lambda]}(y_i).\n",
    "$$"
   ]
  },
  {
   "cell_type": "markdown",
   "metadata": {},
   "source": [
    "La classe de problèmes d'optimisation ci-dessous modélise les problèmes obtenus."
   ]
  },
  {
   "cell_type": "code",
   "execution_count": 31,
   "metadata": {},
   "outputs": [],
   "source": [
    "# Classe de modeles lineaires\n",
    "class ModelLin(object):\n",
    "    \"\"\"\n",
    "    Construction d'une classe de modeles lineaires avec differents types d'erreurs\n",
    "    \n",
    "    Attributs\n",
    "    ----------\n",
    "    X : matrice de donnees\n",
    "    n,d : dimensions de la matrice X\n",
    "    wstar : \"verite terrain\" (ground truth du modele lineaire), vecteur de taille (d,1)\n",
    "    eps : vecteur des erreurs, de taille (n,1)\n",
    "    lbda : parametre de la loi de probabilite des erreurs (>0)\n",
    "    law : loi des entrees du vecteur eps\n",
    "        'gauss' (defaut): loi normale de moyenne 0 et de variance lambda\n",
    "        'laplace' : loi de Laplace (0,1/lambda)\n",
    "        'unif' : loi uniforme sur [-lambda,lambda]\n",
    "    y : observations bruitees, de taille (n,1)\n",
    "\n",
    "    \n",
    "    \"\"\"   \n",
    "    \n",
    "    # Instanciation de la classe\n",
    "    def __init__(self, X, wstar,lbda,law='gauss'):\n",
    "        self.X = X\n",
    "        self.n, self.d = X.shape\n",
    "        self.wstar = wstar\n",
    "        self.lbda=lbda\n",
    "        self.law=law\n",
    "\n",
    "        # Pour chacune des lois considerees, on calcule les valeurs des\n",
    "        # attributs y et eps\n",
    "        if law=='gauss':\n",
    "            self.eps = normal(0,lbda,size=n)\n",
    "        elif law=='laplace':\n",
    "            self.eps = laplace(0,lbda,size=n)\n",
    "        elif law=='unif':\n",
    "            self.eps = uniform(-lbda,lbda,size=n)\n",
    "        self.y = self.X.dot(self.wstar)+self.eps\n"
   ]
  },
  {
   "cell_type": "markdown",
   "metadata": {},
   "source": [
    "Valider l'implémentation au moyen du code ci-dessus, qui affiche le résultat lorsque $d=1$, et observer la distribution des points ainsi générés."
   ]
  },
  {
   "cell_type": "code",
   "execution_count": 33,
   "metadata": {},
   "outputs": [
    {
     "data": {
      "image/png": "[encoded data removed]",
      "text/plain": [
       "<Figure size 432x288 with 1 Axes>"
      ]
     },
     "metadata": {
      "needs_background": "light"
     },
     "output_type": "display_data"
    },
    {
     "data": {
      "image/png": "[encoded data removed]",
      "text/plain": [
       "<Figure size 432x288 with 1 Axes>"
      ]
     },
     "metadata": {
      "needs_background": "light"
     },
     "output_type": "display_data"
    }
   ],
   "source": [
    "# On instancie plusieurs fois la classe pour afficher les resultats\n",
    "\n",
    "d=1\n",
    "n=40\n",
    "idx = np.arange(d)\n",
    "wstar = (-1)**idx * np.exp(-idx / 10.)\n",
    "corr = 0.5\n",
    "X = multivariate_normal(np.zeros(d), toeplitz(corr ** np.arange(0, d)), size=n)\n",
    "y = X.dot(wstar) #Tendance lineaire veritable\n",
    "lbda = 0.8\n",
    "\n",
    "mlg = ModelLin(X,wstar,lbda,'gauss')\n",
    "mll = ModelLin(X,wstar,lbda,'laplace')\n",
    "mlu = ModelLin(X,wstar,lbda,'unif')\n",
    "\n",
    "if d==1:\n",
    "    # Trace des points initiaux\n",
    "    plt.figure()\n",
    "    plt.scatter(X[:,0],y,color='k',marker='o',label='Vrai modele')\n",
    "    plt.scatter(X[:,0],mlg.y,color='red',marker='^',label='Err. Gauss')\n",
    "    plt.scatter(X[:,0],mll.y,color='darkgoldenrod',marker='*',label='Err. Laplace')\n",
    "    plt.scatter(X[:,0],mlu.y,color='forestgreen',marker='s',label='Err. Unif')\n",
    "    plt.legend()\n",
    "    plt.show()\n",
    "\n",
    "    #Trace des erreurs\n",
    "    plt.figure()\n",
    "    plt.plot(mlg.eps,'^',color='red',label='Err. Gauss')\n",
    "    plt.plot(mll.eps,'*',color='darkgoldenrod',label='Err. Laplace')\n",
    "    plt.plot(mlu.eps,'s',color='forestgreen',label='Err. Unif')\n",
    "    plt.legend()\n",
    "    plt.show()"
   ]
  },
  {
   "cell_type": "markdown",
   "metadata": {},
   "source": [
    "On va maintenant chercher à calculer l'estimateur du maximum de vraisemblance pour les différentes lois possibles des erreurs. Pour ce faire, on reformule les problèmes de la façon la plus simple possible en des problèmes de minimisation convexe, puis on fait appel à des solveurs dédiés de la bibliothèque SciPy."
   ]
  },
  {
   "cell_type": "markdown",
   "metadata": {},
   "source": [
    "## <span style=\"color:rgb(46,139,87)\">1.2 - Reformulations convexes</span>\n",
    "\n",
    "Etant donné notre vecteur d'observations $\\mathbf{y} \\in \\mathbb{R}^n$, on considère une famille de lois de probabilité $p_{\\mathbf{x}}(\\cdot)$ paramétrée par un vecteur $\\mathbf{w} \\in \\mathbb{R}^d$. La vraisemblance est alors définie par\n",
    "$$\n",
    "    \\mathbf{w} \\; \\mapsto \\; p_{\\mathbf{w}}(\\mathbf{y}).\n",
    "$$\n",
    "et la *log-vraisemblance* correspond au logarithme de cette fonction. L'estimateur du maximum de vraisemblance est alors obtenu en résolvant le problème\n",
    "$$\n",
    "    \\mbox{maximiser}_{\\mathbf{x} \\in \\mathbb{R}^n} \\ell(\\mathbf{x}):= \\ln\\left[p_{\\mathbf{x}}(\\mathbf{y})\\right].\n",
    "$$\n",
    "Dans tous les cas à venir, on obtient une formulation convexe en formant tout d'abord la log-vraisemblance, puis en prenant l'opposée pour obtenir un problème de minimisation. \n",
    "\n",
    "a) $\\epsilon_i \\sim \\mathcal{N}(0,\\lambda)$: ce cas correspond à un problème aux moindres carrés linéaires. À une constante près, le problème de maximisation de la log-vraisemblance correspond en effet à \n",
    "$$\n",
    "    \\mbox{maximiser}_{\\mathbf{w} \\in \\mathbb{R}^d} -\\frac{1}{2}\\left\\| \\mathbf{X w}-\\mathbf{y}\\right\\|^2,\n",
    "$$\n",
    "qui possède exactement le même ensemble de solutions que\n",
    "$$\n",
    "    \\mbox{minimiser}_{\\mathbf{w} \\in \\mathbb{R}^d} \\frac{1}{2}\\left\\|\\mathbf{X w}-\\mathbf{y}\\right\\|^2.\n",
    "$$\n",
    "Ce problème est un problème aux moindres carrés linéaires, qui est convexe (sa matrice Hessienne étant $\\mathbf{X}^T \\mathbf{X} \\succeq \\mathbf{O}$).\n",
    "$$\n",
    "    \\mbox{minimiser}_{\\mathbf{w} \\in \\mathbb{R}^d} f(\\mathbf{w})\n",
    "$$\n",
    "\n",
    "b) $\\epsilon_i \\sim \\mbox{Laplace}(0,\\lambda)$: En utilisant la formule de la vraisemblance et sans considérer les termes constants, le problème de calcul du maximum de vraisemblance est équivalent à\n",
    "$$\n",
    "    \\mbox{maximiser}_{\\mathbf{w} \\in \\mathbb{R}^d} -\\frac{1}{\\lambda} \\left\\|\\mathbf{X} \\mathbf{w}-\\mathbf{y}\\right\\|_1,\n",
    "$$\n",
    "au sens où les problèmes possèdent le même ensemble de solutions.\n",
    "La quantité $\\lambda$ étant strictement positive, cet ensemble de solutions est également celui du problème\n",
    "$$\n",
    "    \\mbox{minimiser}_{\\mathbf{w} \\in \\mathbb{R}^d} \\left\\|\\mathbf{X} \\mathbf{w}-\\mathbf{y}\\right\\|_1 = \\sum_{i=1}^m \\left| \\mathbf{x}_i^T \\mathbf{w} - y_i \\right|,\n",
    "$$\n",
    "qui est un problème convexe mais dont l'objectif n'est pas partout dérivable. En rajoutant des variables supplémentaires, il est cependant possible de supprimer les valeurs absolues et d'obtenir ainsi un problème convexe avec contraintes linéaires :\n",
    "$$\n",
    "    \\begin{array}{lll}\n",
    "    \\mbox{minimiser}_{\\substack{\\mathbf{w} \\in \\mathbb{R}^d \\\\ \\mathbf{t}^+ \\in \\mathbb{R}^n\n",
    "    \\\\ \\mathbf{t}^- \\in \\mathbb{R}^n}} \n",
    "    &\\sum_{i=1}^n \\left( [\\mathbf{t}^+]_i + [\\mathbf{t}^-]_i \\right) & \\\\\n",
    "    \\mbox{s. c.} &[\\mathbf{t}^+]_i \\ge 0 &i=1,\\dots,n \\\\\n",
    "    &[\\mathbf{t}^-]_i \\ge 0 &i=1,\\dots,n \\\\\n",
    "    &[\\mathbf{t}^+]_i -[\\mathbf{t}^-]_i - (\\mathbf{x_i}^T \\mathbf{w} -y_i) = 0 &i=1,\\dots,n.\n",
    "    \\end{array}\n",
    "$$\n",
    "Ce problème est un programme linéaire, dont l'objectif et les $3n$ contraintes sont linéaires en les $d+2n$ variables $(\\mathbf{x},\\mathbf{t}^+,\\mathbf{t}^-)$.\n",
    "\n",
    "c) $\\epsilon_i \\sim U([-\\lambda,\\lambda])$: À une constante près, le problème de calcul de l'estimateur du maximum de vraisemblance s'écrit:\n",
    "$$\n",
    "    \\mbox{maximiser}_{\\mathbf{w} \\in \\mathbb{R}^d} \n",
    "    \\sum_{i=1}^n \\ln\\left[\\mathbf{1}_{[-\\lambda+\\mathbf{x}_i^T \\mathbf{w},\\lambda+\\mathbf{x}_i^T \\mathbf{w}]}(y_i)\\right],\n",
    "$$\n",
    "qui est équivalent au problème de minimisation\n",
    "$$\n",
    "    \\mbox{minimiser}_{\\mathbf{w} \\in \\mathbb{R}^d} \n",
    "    -\\sum_{i=1}^n \\ln\\left[\\mathbf{1}_{[-\\lambda+\\mathbf{x}_i^T \\mathbf{w},\\lambda+\\mathbf{x}_i^T \\mathbf{w}]}(y_i)\\right],\n",
    "$$\n",
    "La fonction objectif prend la valeur $-\\inf$ en tout point $\\mathbf{w}$ pour lequel\n",
    "$y_i \\notin [-\\lambda+\\mathbf{x}_i^T \\mathbf{w},\\lambda+\\mathbf{x}_i^T \\mathbf{w}]$ pour \n",
    "au moins un indice $i \\in \\{1,\\dots,n\\}$, et la valeur 0 sinon. On peut donc écrire ce problème comme un problème de réalisabilité (c'est-à-dire à fonction objectif constante) de la manière suivante:\n",
    "$$\n",
    "    \\begin{array}{lll}\n",
    "    \\mbox{minimiser}_{\\mathbf{w} \\in \\mathbb{R}^d} &0 &\\\\\n",
    "    \\mbox{s.c.} &-\\lambda + \\mathbf{x}_i^T \\mathbf{w} - y_i \\le 0 &i=1,\\dots,n\\\\\n",
    "    &-\\lambda - \\mathbf{x}_i^T \\mathbf{w} + y_i \\le 0 &i=1,\\dots,n.\n",
    "    \\end{array}\n",
    "$$\n",
    "Ce problème est convexe; il appartient à la catégorie des problèmes de programmation linéaires."
   ]
  },
  {
   "cell_type": "markdown",
   "metadata": {},
   "source": [
    "Les deux classes ci-dessous permettent d'encoder les problèmes développés plus haut, et de les résoudre directement via des solveurs de la bibliothèque SciPy. La première de ces classes permet de représenter les problèmes aux moindres carrés linéaires de la forme\n",
    "$$\n",
    "    \\begin{array}{lll}\n",
    "        \\mbox{minimiser}_{\\mathbf{w} \\in \\mathbb{R}^d} &\\frac{1}{2}\\left\\|\\mathbf{X} \\mathbf{w}-\\mathbf{y}\\right\\|^2 \\\\\n",
    "        \\mbox{s.c.} &\\mathbf{l}_b \\le \\mathbf{w} \\le \\mathbf{u}_b.\n",
    "    \\end{array}\n",
    "$$"
   ]
  },
  {
   "cell_type": "code",
   "execution_count": 39,
   "metadata": {},
   "outputs": [],
   "source": [
    "# Classe pour les problemes aux moindres carres lineaires\n",
    "class LinLsq(object):\n",
    "    \"\"\"\n",
    "    Classe pour les problemes de moindres carres lineaires de la forme\n",
    "        minimiser (1/2)*||X w - y||^2\n",
    "        s.c. lb <= w <= ub\n",
    "    \n",
    "    Attributs\n",
    "    ----------\n",
    "    \n",
    "    X : Matrice du modele lineaire\n",
    "    y : Second membre du modele lineaire\n",
    "    bds : suite d'elements (l,u) formant des bornes sur chaque variable\n",
    "        Si bds =(a,b) avec a et b deux constantes, la meme borne est appliquee a toutes\n",
    "        les variables\n",
    "        Utiliser None pour des variables non bornees\n",
    "        \n",
    "    Methodes\n",
    "    --------\n",
    "    \n",
    "    resol : Resoudre le probleme via un appel a la methode lsq_linear de SciPy\n",
    "\n",
    "    \n",
    "    \"\"\"   \n",
    "\n",
    "    \n",
    "    \n",
    "    # Instanciation de la classe\n",
    "    def __init__(self, X, y,bds=(None,None)):\n",
    "        self.X = X\n",
    "        self.y = y\n",
    "        self.bds = bds\n",
    "        \n",
    "    # Resolution du probleme aux moindres carres lineaires sous-jacent via le solveur \n",
    "    # lsq_linear (note: ce solveur permet de preciser des bornes sur la variable)\n",
    "    def resol(self):\n",
    "        return lsq_linear(self.X, self.y, bounds=self.bds)"
   ]
  },
  {
   "cell_type": "markdown",
   "metadata": {},
   "source": [
    "La classe ci-dessous encode les programmes linéaires de la forme\n",
    "$$\n",
    "    \\begin{array}{lll}\n",
    "        \\min_{\\mathbf{w} \\in \\mathbb{R}^d} &\\mathbf{c}^T \\mathbf{w} \\\\\n",
    "        \\mbox{s.c.} &\\mathbf{A}_i \\mathbf{w} - \\mathbf{b}_i \\le \\mathbf{0}\\\\\n",
    "        &\\mathbf{A}_e \\mathbf{w} - \\mathbf{b}_e \\le \\mathbf{0} \\\\\n",
    "        &\\mathbf{l}_b \\le \\mathbf{w} \\le \\mathbf{u}_b.\n",
    "    \\end{array}\n",
    "$$\n",
    "*Dans les logiciels de programmation linéaire, les contraintes de bornes sur les variables font généralement l'objet d'un traitement spécifique.*"
   ]
  },
  {
   "cell_type": "code",
   "execution_count": 35,
   "metadata": {},
   "outputs": [],
   "source": [
    "# Classe pour les programmes lineaires\n",
    "class LinOpt(object):\n",
    "    \"\"\"\n",
    "    Classe pour les problemes de programmation lineaire de la forme\n",
    "        minimiser c^T w\n",
    "        s.c. A_e w - b_e = 0\n",
    "             A_i w - b_i <= 0\n",
    "             lb <= w <= ub\n",
    "    \n",
    "    Attributs\n",
    "    ----------\n",
    "    \n",
    "    c : vecteur definissant la fonction de cout\n",
    "    A_e : Matrice correspondant aux contraintes d'egalite lineaires\n",
    "    b_e : Second membre des contraintes d'egalite lineaires\n",
    "    A_i : Matrice correspondant aux contraintes d'inegalite lineaires\n",
    "    b_i : Second membre des contraintes d'inegalite lineaires\n",
    "    bds : suite d'elements (lb,ub) formant des bornes sur chaque variable\n",
    "        Si bds =(a,b) avec a et b deux constantes, la meme borne est appliquee a toutes\n",
    "        les variables\n",
    "        Utiliser None pour des variables non bornees\n",
    "        \n",
    "    Methodes\n",
    "    --------\n",
    "    \n",
    "    resol : Resoudre le probleme via un appel a la methode linprog de SciPy\n",
    "\n",
    "    \n",
    "    \"\"\"   \n",
    "\n",
    "    # Instanciation de la classe\n",
    "    def __init__(self, c, A_e=None, b_e=None, A_i=None, b_i=None, bds=(None,None)):\n",
    "        self.c=c\n",
    "        self.A_e=A_e\n",
    "        self.b_e=b_e\n",
    "        self.A_i=A_i\n",
    "        self.b_i=b_i\n",
    "        self.bds=bds\n",
    "        \n",
    "    # Resolution du probleme par une methode de points interieurs\n",
    "    def resol(self):\n",
    "        return linprog(c=self.c, A_ub=self.A_i, b_ub=self.b_i, A_eq=self.A_e, b_eq=self.b_e, bounds=self.bds, method='interior-point')"
   ]
  },
  {
   "cell_type": "markdown",
   "metadata": {},
   "source": [
    "Pour chacun des problèmes de minimisation convexe, on crée une instance appropriée et calculer la solution du problème."
   ]
  },
  {
   "cell_type": "code",
   "execution_count": 42,
   "metadata": {},
   "outputs": [
    {
     "name": "stdout",
     "output_type": "stream",
     "text": [
      "Ecart avec verite terrain :  0.02513192403788589\n",
      "Fonction de cout :  11.923187623408396\n",
      "Norme du gradient :  1.2989609388114332e-14\n"
     ]
    },
    {
     "data": {
      "image/png": "[encoded data removed]",
      "text/plain": [
       "<Figure size 432x288 with 1 Axes>"
      ]
     },
     "metadata": {
      "needs_background": "light"
     },
     "output_type": "display_data"
    },
    {
     "data": {
      "image/png": "[encoded data removed]",
      "text/plain": [
       "<Figure size 432x288 with 1 Axes>"
      ]
     },
     "metadata": {
      "needs_background": "light"
     },
     "output_type": "display_data"
    }
   ],
   "source": [
    "# Instanciation pour le probleme du maximum de vraisemblance avec erreurs gaussiennes.\n",
    "\n",
    "# On instancie la classe LinLsq pour representer le probleme considere\n",
    "\n",
    "lsqgauss = LinLsq(mlg.X,mlg.y) # Instance obtenue\n",
    "\n",
    "\n",
    "resgauss = lsqgauss.resol()\n",
    "\n",
    "# Ecart absolu avec la verite terrain\n",
    "print('Ecart avec verite terrain : ',norm(wstar-resgauss.x))\n",
    "\n",
    "# Valeur de la fonction de cout\n",
    "print('Fonction de cout : ', resgauss.cost)\n",
    "\n",
    "# Norme du gradient\n",
    "print('Norme du gradient : ', resgauss.optimality)\n",
    "\n",
    "\n",
    "if d==1:\n",
    "    # Affichage des points initiaux\n",
    "    plt.figure()\n",
    "    plt.scatter(X[:,0],y,color='k',marker='o',label='Vrai modele')\n",
    "    plt.scatter(X[:,0],mlg.y,color='red',marker='^',label='+Gauss')\n",
    "    plt.legend()\n",
    "    plt.show()\n",
    "    \n",
    "    # Trace des donnees et des predictions\n",
    "    plt.figure()\n",
    "    plt.plot(X[:,0],X.dot(wstar),color='k',label='Verite terrain')\n",
    "    plt.plot(X[:,0],X.dot(resgauss.x),color='red',label='MV Gauss')\n",
    "    plt.legend()\n",
    "    plt.show()\n"
   ]
  },
  {
   "cell_type": "code",
   "execution_count": 45,
   "metadata": {},
   "outputs": [
    {
     "name": "stdout",
     "output_type": "stream",
     "text": [
      "Ecart verite terrain :  9.535595933901222\n",
      "Fonction cout :  8.980383979669762\n"
     ]
    },
    {
     "data": {
      "image/png": "[encoded data removed]",
      "text/plain": [
       "<Figure size 432x288 with 1 Axes>"
      ]
     },
     "metadata": {
      "needs_background": "light"
     },
     "output_type": "display_data"
    },
    {
     "data": {
      "image/png": "[encoded data removed]",
      "text/plain": [
       "<Figure size 432x288 with 1 Axes>"
      ]
     },
     "metadata": {
      "needs_background": "light"
     },
     "output_type": "display_data"
    }
   ],
   "source": [
    "# Calcul du maximum de vraisemblance avec erreurs de Laplace\n",
    "\n",
    "#  On instancie la classe LinOpt pour representer le probleme avec erreurs de Laplace\n",
    "#  tel qu'etabli en partie theorique\n",
    "\n",
    "dlap = mll.d+2*(mll.n)\n",
    "\n",
    "# Vecteur clap - clap[i]=0 pour x_i, clap[i]=1 pour t^+_i et  t^-_i\n",
    "clap= np.ones(dlap)\n",
    "clap[0:(mll.d)]=0\n",
    "\n",
    "# Matrice de contraintes d'egalite\n",
    "Im = np.identity(mll.n)\n",
    "Alap = np.concatenate((-mll.X,Im,-Im),axis=1)\n",
    "blap = -mll.y\n",
    "\n",
    "# Bornes \n",
    "laux = []\n",
    "for i in range(n):\n",
    "    laux.append((None,None))\n",
    "for i in range(n,dlap):\n",
    "    laux.append((0,None))\n",
    "bdslap = tuple(laux)\n",
    "\n",
    "# Instanciation\n",
    "lplaplace = LinOpt(c=clap,A_e=Alap,b_e=blap,bds=bdslap) # Instance obtenue\n",
    "\n",
    "\n",
    "reslaplace=lplaplace.resol()\n",
    "\n",
    "# Ecart absolu avec la verite terrain\n",
    "print('Ecart verite terrain : ',norm(wstar-reslaplace.x[0:n]))\n",
    "\n",
    "# Valeur de la fonction de coit\n",
    "print('Fonction cout : ',reslaplace.fun)\n",
    "\n",
    "\n",
    "\n",
    "if d==1:\n",
    "    # Affichage des points initiaux\n",
    "    plt.figure()\n",
    "    plt.scatter(X[:,0],y,color='k',marker='o',label='Vrai modele')\n",
    "    plt.scatter(X[:,0],mll.y,color='darkgoldenrod',marker='*',label='+Laplace')\n",
    "    plt.legend()\n",
    "    plt.show()\n",
    "    \n",
    "    # Affichage de la verite terrain et de son estimateur\n",
    "    plt.figure()\n",
    "    plt.plot(X[:,0],X.dot(wstar),color='k',label='Verite terrain')\n",
    "    plt.plot(X[:,0],X.dot(reslaplace.x[0:mll.d]),color='darkgoldenrod',label='MV Laplace')\n",
    "    plt.legend()\n",
    "    plt.show()"
   ]
  },
  {
   "cell_type": "code",
   "execution_count": 47,
   "metadata": {},
   "outputs": [
    {
     "name": "stdout",
     "output_type": "stream",
     "text": [
      "0.06593514517962884\n",
      "8.432686051066662\n"
     ]
    },
    {
     "data": {
      "image/png": "[encoded data removed]",
      "text/plain": [
       "<Figure size 432x288 with 1 Axes>"
      ]
     },
     "metadata": {
      "needs_background": "light"
     },
     "output_type": "display_data"
    },
    {
     "data": {
      "image/png": "[encoded data removed]",
      "text/plain": [
       "<Figure size 432x288 with 1 Axes>"
      ]
     },
     "metadata": {
      "needs_background": "light"
     },
     "output_type": "display_data"
    }
   ],
   "source": [
    "# Calcul du maximum de vraisemblance avec erreurs uniformes\n",
    "\n",
    "mlu = ModelLin(X,wstar,lbda,'unif')\n",
    "\n",
    "#  On instancie la classe LinOpt pour representer le probleme avec erreurs uniformes\n",
    "#  tel qu'etabli en partie theorique\n",
    "\n",
    "\n",
    "# Vecteur cunif (objectif nul)\n",
    "cunif= np.zeros(mlu.d)\n",
    "\n",
    "# Matrice de contraintes d'inegalite\n",
    "Aunif = np.concatenate((mlu.X,-mlu.X),axis=0)\n",
    "bunif = mlu.lbda+ np.concatenate((mlu.y,-mlu.y),axis=0)\n",
    "\n",
    "# Instanciation\n",
    "lpunif = LinOpt(c=cunif,A_i=Aunif,b_i=bunif) # Instance obtenue\n",
    "\n",
    "\n",
    "resunif=lpunif.resol()\n",
    "\n",
    "# Ecart absolu avec la vérité terrain\n",
    "print(norm(wstar-resunif.x))\n",
    "\n",
    "# Valeur de la satisfaction des contraintes\n",
    "print(norm(resunif.slack))\n",
    "\n",
    "\n",
    "if d==1:\n",
    "    # Affichage des points initiaux\n",
    "    plt.figure()\n",
    "    plt.scatter(X[:,0],y,color='k',marker='o',label='Vrai modele')\n",
    "    plt.scatter(X[:,0],mlu.y,color='forestgreen',marker='s',label='+Unif')\n",
    "    plt.legend()\n",
    "    plt.show()\n",
    "    \n",
    "    # Affichage de la verite terrain et de son estimateur\n",
    "    plt.figure()\n",
    "    plt.plot(X[:,0],X.dot(wstar),color='k',label='Verite terrain')\n",
    "    plt.plot(X[:,0],X.dot(resunif.x),color='forestgreen',label='MV Unif')\n",
    "    plt.legend()\n",
    "    plt.show()"
   ]
  },
  {
   "cell_type": "markdown",
   "metadata": {},
   "source": [
    "*Commentaire : La variante avec erreurs uniformes semble la plus simple à minimiser. Cependant, lorsque la valeur de $\\lambda$ est importante, le problème d'optimisation possède un grand nombre de solutions, parmi lesquelles il est impossible de faire un choix au sens de l'optimisation. À l'inverse, lorsque $\\lambda \\rightarrow 0$ et que la distribution tend vers une valeur ponctuelle, le problème se ramène à la résolution du système $\\mathbf{X}\\mathbf{w} = \\mathbf{y}$.*"
   ]
  },
  {
   "cell_type": "markdown",
   "metadata": {},
   "source": [
    "## <span style=\"color:rgb(46,139,87)\">1.3 - Régularisation et a priori</span>\n",
    "\n",
    "On considère maintenant au cas d'un modèle linéaire avec erreurs gaussiennes selon une loi normale $\\mathcal{N}(0,1)$, et on considère donc une famille de densités gaussiennes $\\mathcal{N}\\left(\\mathbf{X}\\mathbf{w},\\mathbf{I}\\right)$. \n",
    "\n",
    "On suppose de surcroît un a priori sur $\\mathbf{w}^*$; plus spécifiquement, on supposera \n",
    "que les entrées de $\\mathbf{w}$ sont i.i.d. selon l'une des lois suivantes :\n",
    "\n",
    "a) loi normale $\\mathcal{N}\\left(0,\\frac{1}{\\mu}\\right)$ avec $\\mu>0$;\n",
    "\n",
    "b) loi uniforme $U_{[\\mathbf{0},\\mathbf{1}]}$;\n",
    "\n",
    "c) loi $\\mathrm{Beta}(2,1)$.\n",
    "\n",
    "*On rappelle ici l'expression de la densité de probabilité d'une loi $\\mathrm{Beta}(2,1)$, dont le support est $[0,1]$ :*\n",
    "$$\n",
    "    \\forall z \\in [0,1], \\quad p(z) = 2 z.\n",
    "$$"
   ]
  },
  {
   "cell_type": "markdown",
   "metadata": {},
   "source": [
    "Étant données une famille de distributions $\\{p_{\\mathbf{y}|\\mathbf{w}}(\\cdot)\\}$ sur $\\mathbb{R}^n$ paramétrée par $\\mathbf{w} \\in \\mathbb{R}^d$ et une famille de distributions a priori $\\{p_{\\mathbf{w}}(\\cdot)\\}$ sur $\\mathbb{R}^d$, le problème de calcul du maximum a posteriori est donné par\n",
    "$$\n",
    "    \\mbox{maximiser}_{\\mathbf{<} \\in \\mathbb{R}^d} \\left\\{ \\ln\\left[p_{\\mathbf{y}|\\mathbf{w}}(\\mathbf{y})\\right] + \\ln\\left[ p_{\\mathbf{w}}(\\mathbf{x})\\right] \\right\\}.\n",
    "$$\n",
    "\n",
    "On utilise la formulation classique du problème de maximum a posteriori en omettant les termes constants, qui ne jouent aucun rôle dans l'optimisation.  On obtient ainsi les trois résultats suivants :\n",
    "\n",
    "a) Le premier cas donne\n",
    "$$\n",
    "    \\mbox{maximiser}_{\\mathbf{w} \\in \\mathbb{R}^d} -\\frac{1}{2}\\left\\|\\mathbf{X}\\mathbf{w}-\\mathbf{y}\\right\\|^2 - \\frac{\\mu}{2}\\|\\mathbf{w}\\|^2,\n",
    "$$\n",
    "qui est équivalent au problème fortement convexe\n",
    "$$\n",
    "    \\mbox{minimiser}_{\\mathbf{w} \\in \\mathbb{R}^d} \\frac{1}{2}\\left\\|\\mathbf{X}\\mathbf{w}-\\mathbf{y}\\right\\|^2 + \\frac{\\mu}{2}\\|\\mathbf{w}\\|^2.\n",
    "$$\n",
    "On notera (utile pour la partie pratique) que ce problème se met sous la forme d'un problème aux moindres carrés comme suit :\n",
    "$$\n",
    "    \\mbox{minimiser}_{\\mathbf{w} \\in \\mathbb{R}^d} \\frac{1}{2}\\left\\| \\mathbf{H}\\mathbf{w}-\\mathbf{g}\\right\\|^2, \\quad \\mathbf{H} := \\left( \\mathbf{X}^T \\mathbf{X} + \\mu \\mathbf{I} \\right)^{1/2}, \n",
    "    \\quad \\mathbf{g} := \\mathbf{H}^{-1} \\mathbf{X}^T \\mathbf{y}.\n",
    "$$\n",
    "\n",
    "b) Les densités a priori sont de la forme\n",
    "$$\n",
    "    p_{\\mathbf{w}}(\\mathbf{w}) =  \\prod_{i=1}^d \\mathbf{1}_{[0,1]}(w_i).\n",
    "$$\n",
    "Le problème d'estimation du maximum a posteriori s'écrit alors\n",
    "$$\n",
    "    \\mbox{maximiser}_{\\mathbf{w} \\in \\mathbb{R}^d} -\\frac{1}{2}\\left\\|\\mathbf{X}\\mathbf{w}-\\mathbf{y}\\right\\|^2 + \\sum_{i=1}^d \\ln\\left[\\mathbf{1}_{[0,1]}(w_i)\\right],\n",
    "$$\n",
    "on peut reformuler le probl\\`eme comme un problème de minimisation avec contraintes de bornes:\n",
    "$$\n",
    "    \\begin{array}{lll}\n",
    "    \\min_{\\mathbf{w} \\in \\mathbb{R}^d} \n",
    "    &\\frac{1}{2}\\left\\|\\mathbf{X}\\mathbf{w}-\\mathbf{y}\\right\\|^2 & \\\\\n",
    "    \\mbox{s.c.} &0 \\le x_i \\le 1 &i=1,\\dots,d.\n",
    "    \\end{array}\n",
    "$$\n",
    "\n",
    "c) En utilisant la formule de la densité bêta et le fait que l'a priori sur $\\mathbf{w}$ suppose que les entrées sont i.i.d., on obtient\n",
    "$$\n",
    "    p_{\\mathbf{w}}(\\mathbf{w}) = 2^d \\prod_{i=1}^d w_i \\mathbf{1}_{[0,1]}(w_i).\n",
    "$$\n",
    "En introduisant cela dans la formule du problème d'estimation du maximum a posteriori et en enlevant les termes constants de l'objectif, on obtient le problème\n",
    "$$\n",
    "    \\begin{array}{lll}\n",
    "    \\mbox{maximiser}_{\\mathbf{w} \\in \\mathbb{R}^d} &-\\frac{1}{2}\\left\\|\\mathbf{X}\\mathbf{w}-\\mathbf{y}\\right\\|^2 + \\sum_{i=1}^d \\ln(w_i) & \\\\\n",
    "    \\mbox{s.c.} &0 \\le w_i \\le 1 &i=1,\\dots,n.\n",
    "    \\end{array}\n",
    "$$\n",
    "qui est équivalent au problème convexe\n",
    "$$\n",
    "    \\begin{array}{lll}\n",
    "    \\mbox{minimiser}_{\\mathbf{w} \\in \\mathbb{R}^d} &\\frac{1}{2}\\left\\|\\mathbf{X}\\mathbf{w}-\\mathbf{y}\\right\\|^2 - \\sum_{i=1}^d \\ln(w_i)& \\\\\n",
    "    \\mbox{s.c.} &0 \\le w_i \\le 1 &i=1,\\dots,n.\n",
    "    \\end{array}\n",
    "$$\n",
    "Ce problème est convexe,"
   ]
  },
  {
   "cell_type": "markdown",
   "metadata": {},
   "source": [
    "Le code ci-dessous, basé sur la classe LinLsq, calcule l'estimateur du maximum a posteriori pour les choix a) (avec $\\mu=10$) et b), et compare les valeurs obtenues à celle sans a priori."
   ]
  },
  {
   "cell_type": "code",
   "execution_count": 51,
   "metadata": {},
   "outputs": [
    {
     "name": "stdout",
     "output_type": "stream",
     "text": [
      "Ecart MV :  0.06982755430626186\n",
      "Ecart MAP Gauss :  0.19040183745369899\n",
      "Ecart MAP Unif :  1.1102230246251565e-16\n",
      "Fonction de cout MV :  10.814648743728235\n",
      "Fonction de cout MAP Gauss :  3.944304526105059e-31\n",
      "Fonction de cout MAP Unif :  10.890495468897676\n",
      "Norme gradient MV : 7.993605777301127e-15\n",
      "Norme gradient MAP Gauss : 5.694805989609135e-15\n",
      "Norme gradient MAP Unif : 2.4118496333467726e-16\n"
     ]
    },
    {
     "data": {
      "image/png": "[encoded data removed]",
      "text/plain": [
       "<Figure size 432x288 with 1 Axes>"
      ]
     },
     "metadata": {
      "needs_background": "light"
     },
     "output_type": "display_data"
    },
    {
     "data": {
      "image/png": "[encoded data removed]",
      "text/plain": [
       "<Figure size 432x288 with 1 Axes>"
      ]
     },
     "metadata": {
      "needs_background": "light"
     },
     "output_type": "display_data"
    }
   ],
   "source": [
    "# Instanciation pour le problème du maximum de vraisemblance \n",
    "# avec erreurs gaussiennes standards.\n",
    "\n",
    "mlgs = ModelLin(X,wstar,1,'gauss')\n",
    "lsqmvg = LinLsq(mlgs.X,mlgs.y) # Probleme sans a priori\n",
    "\n",
    "###########################\n",
    "# A COMPLETER :\n",
    "# Instancier la classe LinLsq pour encoder les problemes de calcul du maximum \n",
    "# a posteriori pour chacun des deux a priori\n",
    "\n",
    "mu = 10\n",
    "H = np.matmul(mlgs.X.T,mlgs.X)+mu*np.identity(d)\n",
    "H = sqrtm(H)\n",
    "Hi = pinv(H)@(mlgs.X.T)\n",
    "lsqmapgg = LinLsq(H,Hi.dot(mlgs.y))#Instance avec a priori gaussien (mu=10)\n",
    "\n",
    "lsqmapgu = LinLsq(mlgs.X,mlgs.y,bds=(0,1))\n",
    "\n",
    "# FIN A COMPLETER\n",
    "########################\n",
    "\n",
    "resmvg = lsqmvg.resol()\n",
    "resmapgg = lsqmapgg.resol()\n",
    "resmapgu = lsqmapgu.resol()\n",
    "\n",
    "# Ecart absolu avec la vérité terrain\n",
    "print('Ecart MV : ', norm(wstar-resmvg.x))\n",
    "print('Ecart MAP Gauss : ', norm(wstar-resmapgg.x))\n",
    "print('Ecart MAP Unif : ', norm(wstar-resmapgu.x))\n",
    "\n",
    "# Valeur de la fonction de coût\n",
    "print('Fonction de cout MV : ',resmvg.cost)\n",
    "print('Fonction de cout MAP Gauss : ',resmapgg.cost)\n",
    "print('Fonction de cout MAP Unif : ',resmapgu.cost)\n",
    "\n",
    "# Norme du gradient\n",
    "print('Norme gradient MV :', resmvg.optimality)\n",
    "print('Norme gradient MAP Gauss :', resmapgg.optimality)\n",
    "print('Norme gradient MAP Unif :', resmapgu.optimality)\n",
    "\n",
    "\n",
    "if d==1:\n",
    "    # Affichage des points initiaux\n",
    "    plt.figure()\n",
    "    plt.scatter(X[:,0],y,color='k',marker='o',label='Vrai modele')\n",
    "    plt.scatter(X[:,0],mlgs.y,color='red',marker='^',label='MV Gauss')\n",
    "    plt.legend()\n",
    "    plt.show()\n",
    "    \n",
    "    # Affichage de la verite terrain et des predictions\n",
    "    plt.figure()\n",
    "    plt.plot(X[:,0],X.dot(wstar),color='k',label='Verite terrain')\n",
    "    plt.plot(X[:,0],X.dot(resmvg.x),color='red',label='MV Gauss')\n",
    "    plt.plot(X[:,0],X.dot(resmapgg.x),color='crimson',label='MV Gauss')\n",
    "    plt.plot(X[:,0],X.dot(resmapgu.x),color='chocolate',label='MV Gauss')\n",
    "    plt.legend()\n",
    "    plt.show()\n"
   ]
  },
  {
   "cell_type": "markdown",
   "metadata": {},
   "source": [
    "# <span style=\"color:rgb(46,139,87)\">Partie 2 - Régression non linéaire et logistique</span>"
   ]
  },
  {
   "cell_type": "markdown",
   "metadata": {},
   "source": [
    "Dans la partie précédente, nous avons vu un choix d'a priori qui conduisait à un problème sans contraintes avec un objectif non linéaire (et dont le domaine n'était pas nécessairement $\\mathbb{R}^d$).\n",
    "\n",
    "En *régression logistique*, on cherche à réaliser une classification binaire, c'est-à-dire que l'on dispose d'un jeu de données $\\{(\\mathbb{x}_i,y_i)\\}_{i=1}^n$ où $\\mathbb{x}_i \\in \\mathbb{R}^d$ et $y_i \\in \\{0,1\\}$.\n",
    "\n",
    "Il s'agit alors de postuler que les observations $y_i$ sont indépendantes, et que $y_i$ suit une loi de Bernoulli définie par\n",
    "$$\n",
    "    \\mathbb{P}(y_i=0) = \n",
    "    \\frac{\\exp[-\\mathbf{x}_i^T \\mathbf{w}^*]}{1+\\exp[-\\mathbf{x}_i^T \\mathbf{w}^*]}.\n",
    "$$\n",
    "On parlera de $\\mathbf{w}^*$ comme du paramètre de la loi, et il s'agit de celui que l'on souhaitera estimer. On consid\\`erera la famille de densit\\'es de probabilit\\'e de la forme ci-dessus, paramétrée par un vecteur $\\mathbf{w} \\in \\mathbb{R}^x$. On supposera aussi un a priori gaussien sur les entrées de $\\mathbf{w}$ suivant une loi $\\mathcal{N}\\left(\\mathbf{0},\\tfrac{1}{\\mu}\\mathbf{I}\\right)$."
   ]
  },
  {
   "cell_type": "markdown",
   "metadata": {},
   "source": [
    "La fonction de vraisemblance est définie pour tout $\\mathbf{w} \\in \\mathbb{R}^d$ par\n",
    "$$\n",
    "    p_{\\mathbf{w}}(\\mathbf{y}):= \\prod_{i=1}^n \\left[\\frac{\\exp[-\\mathbf{x}_i^T \\mathbf{w}^*]}{1+\\exp[-\\mathbf{x}_i^T \\mathbf{w}^*]}\\right]^{1-y_i} \n",
    "    \\left[\\frac{1}{1+\\exp[-\\mathbf{x}_i^T \\mathbf{w}^*]}\\right]^{y_i} \n",
    "    = \\prod_{i: y_i=0} \\frac{\\exp[-\\mathbf{x}_i^T \\mathbf{w}^*]}{1+\\exp[-\\mathbf{x}_i^T \\mathbf{w}^*]}\\, \\prod_{i: y_i=1} \\frac{1}{1+\\exp[-\\mathbf{x}_i^T \\mathbf{w}^*]}\n",
    "$$\n",
    "En passant au logarithme, on obtient le problème de maximisation suivant\n",
    "$$\n",
    "    \\mbox{maximiser}_{\\mathbf{w} \\in \\mathbf{R}^d} \\left\\{ \\sum_{i: y_i=0} \\ln\\left( \\frac{\\exp(-\\mathbf{x}_i^T \\mathbf{w})}{1+\\exp(-\\mathbf{x}_i^T \\mathbf{w})}\\right) + \\sum_{i: y_i=1} \\ln\\left( \\frac{1}{1+\\exp(-\\mathbf{x}_i^T \\mathbf{w})} \\right) \\right\\} = \n",
    "    -\\sum_{i: y_i=0}  \\mathbf{x}_i^T \\mathbf{w} -\\sum_{i=1}^n \\ln(1+\\exp(-\\mathbf{x}_i^T \\mathbf{w})).\n",
    "$$\n",
    "La fonction $\\mathbf{w} \\mapsto -\\mathbf{x}_i^T \\mathbf{w}$ est linéaire donc concave. Par ailleurs, la fonction $t \\mapsto \\ln(1+\\exp(-t))$ est convexe, donc par composition $\\mathbf{w} \\mapsto -\\ln(1+\\exp(-\\mathbf{x}_i^T \\mathbf{w}))$ est concave. Ce problème de maximisation de la log-vraisemblance est donc bien concave.\n",
    "\n",
    "- La famille des densités a priori correspond à une loi normale : on aura donc\n",
    "$$\n",
    "    p_{\\mathbf{w}}(\\mathbf{w}) = \\left[ \\frac{1}{\\sqrt{2\\pi\\mu}} \\right]^d\n",
    "    \\exp\\left[- \\frac{\\mu}{2} \\|\\mathbf{w}\\|^2 \\right].\n",
    "$$\n",
    "Par conséquent, le problème d'estimation du maximum de vraisemblance s'écrira \n",
    "$$\n",
    "    \\mbox{maximiser}_{\\mathbf{w} \\in \\mathbb{R}^d} -\\sum_{i: y_i=0}  \\mathbf{x}_i^T \\mathbf{w} -\\sum_{i=1}^n \\ln(1+\\exp(-\\mathbf{x}_i^T \\mathbf{w})) - \\frac{d}{2}\\ln(2\\pi\\mu) - \\frac{\\mu}{2} \\|\\mathbf{w}\\|^2\n",
    "$$\n",
    "qui est équivalent au problème convexe\n",
    "$$\n",
    "    \\mbox{minimiser}_{\\mathbf{w} \\in \\mathbb{R}^d} f(\\mathbf{w}):= \\sum_{i: y_i=0}  \\mathbf{x}_i^T \\mathbf{w} +\\sum_{i=1}^n \\ln(1+\\exp(-\\mathbf{x}_i^T \\mathbf{w})) + \\frac{\\mu}{2}\\|\\mathbf{w}\\|^2.\n",
    "$$\n",
    "\n",
    "\n",
    "- La dérivée de la fonction $t \\mapsto \\ln(1+\\exp(-t))$ est $t \\mapsto \\frac{-\\exp(-t)}{1+\\exp(-t)} = -\\frac{1}{1+\\exp(t)}$. Par composition avec la fonction linéaire $\\mathbf{w} \\mapsto \\mathbf{x}_i^T \\mathbf{w}$, on voit que le gradient de la fonction \n",
    "$\\mathbf{w} \\mapsto \\ln\\left(1+ \\exp(-\\mathbf{x}_i^T \\mathbf{w})\\right)$ est égal à\n",
    "$$\n",
    "- \\frac{1}{1 + \\exp(\\mathbf{x}_i^T \\mathbf{w})} \\mathbf{x}_i.\n",
    "$$\n",
    "Par conséquent, on obtient\n",
    "$$\n",
    "\\nabla f(\\mathbf{w}) = \\sum_{i:y_i=0} \\mathbf{x}_i - \\sum_{i=1}^n  \\frac{1}{1 + \\exp(\\mathbf{x}_i^T \\mathbf{w})} \\mathbf{x}_i + \\mu \\mathbf{w}.\n",
    "$$\n"
   ]
  },
  {
   "cell_type": "code",
   "execution_count": 52,
   "metadata": {},
   "outputs": [],
   "source": [
    "# Classe Python servant a representer les problemes de régression non linéaires \n",
    "# basés sur des modèles linéaires\n",
    "class RegNonLin(object):\n",
    "    \"\"\"\n",
    "    Classe pour les problemes de regression avec objectif non lineaire, de la forme\n",
    "        minimiser f(w;X,y)+ mu*r(w)\n",
    "        \n",
    "    ou f represente un terme d'attache aux donnees et r une regularisation.\n",
    "    \n",
    "    Attributs\n",
    "    ----------\n",
    "    \n",
    "    X : Matrice de donnees (\"attributs/caracteristiques\")\n",
    "    y : Vecteur de donnees (\"labels\")\n",
    "    mu : parametre de regularisation\n",
    "    loss : Forme du terme d'attache aux donnees\n",
    "        'lin' : moindres carres (comme en regression lineaire) (1/2)||Ax-y||^2\n",
    "        'log' : perte logistique\n",
    "    reg : Forme du terme de regularisation\n",
    "        'none': pas de regularisation\n",
    "        'gauss' : regularisation en (1/2)||x||^2\n",
    "\n",
    "    Methodes\n",
    "    ---------\n",
    "    \n",
    "    f_reg : Evaluation du terme de regularisation\n",
    "    g_reg : Gradient du terme de regularisation\n",
    "    fun : Valeur de la fonction objectif du probleme\n",
    "    grad : Gradient de la fonction objectif du probleme\n",
    "    \n",
    "    \"\"\"   \n",
    "\n",
    "    \n",
    "   \n",
    "    # Instanciation de la classe\n",
    "    def __init__(self, X, y,mu=1,loss='log',reg='none'):\n",
    "        self.X = X\n",
    "        self.n, self.d = X.shape\n",
    "        self.y = y\n",
    "        self.mu = mu\n",
    "        self.loss = loss\n",
    "        self.reg = reg\n",
    "    \n",
    "    # Fonction de regularisation/d'a priori\n",
    "    def f_reg(self, w):\n",
    "\n",
    "        # Calcul de la valeur du terme de regularisation en x (selon self.reg)\n",
    "        if self.reg=='none':\n",
    "            return 0\n",
    "        elif self.reg=='gauss':\n",
    "            return  self.mu * norm(w) ** 2 / 2.\n",
    "\n",
    "        \n",
    "    # Gradient du terme a priori\n",
    "    def g_reg(self,w):\n",
    " \n",
    "        # Calcul du gradient du terme de regularisation en x (selon self.reg)\n",
    "        if self.reg=='none':\n",
    "            return np.zeros(self.d)\n",
    "        elif self.reg=='gauss':\n",
    "            return (self.mu)*w\n",
    "   \n",
    "    \n",
    "    # Valeur de l'objectif du probleme (maximum de vraisemblance ou a posteriori)\n",
    "    def fun(self,w):\n",
    "\n",
    "        # Calcul de la fonction objectif en w (perte+regularisation)\n",
    "        if self.loss=='lin':\n",
    "            return norm(self.X.dot(w)-self.y)** 2 / 2. + self.f_reg(w)\n",
    "        elif self.loss=='log':\n",
    "            v = (self.y==0)\n",
    "            Xw = self.X.dot(w)\n",
    "            return v.dot(Xw)+ np.sum(np.log(1. + np.exp(-Xw))) + self.f_reg(w)\n",
    "            \n",
    "        \n",
    "    # Gradient de l'objectif du probleme (maximum de vraisemblance ou a posteriori)\n",
    "    def grad(self, w):\n",
    "\n",
    "        # Calcul du gradient de la fonction objectif en w (perte+regularisation)\n",
    "        if self.loss=='lin':\n",
    "            return self.X.T.dot(self.X.dot(w)-self.y) + self.g_reg(w)\n",
    "        elif self.loss=='log':\n",
    "            v = (self.y==0)\n",
    "            Xv = self.X.T.dot(v)\n",
    "            Xw = self.X.dot(w)\n",
    "            return Xv - self.X.T.dot(1./(1. + np.exp(Xw))) + self.g_reg(w)\n",
    "\n"
   ]
  },
  {
   "cell_type": "markdown",
   "metadata": {},
   "source": [
    "On instancie ensuite la classe pour représenter les problèmes souhaités."
   ]
  },
  {
   "cell_type": "code",
   "execution_count": 53,
   "metadata": {},
   "outputs": [],
   "source": [
    "# Generation du modele\n",
    "d = 1\n",
    "n = 40\n",
    "idx = np.arange(d)\n",
    "mu = 1. / d ** (0.5) \n",
    "# Une valeur plus forte peut deteriorer la qualite de la regression, cf ci-dessous.\n",
    "#mu = 100\n",
    "\n",
    "# Verite terrain\n",
    "wstar = (-1)**idx * np.exp(-idx / 10.)\n",
    "\n",
    "\n",
    "# Generation des donnees pour la regression lineaire\n",
    "Xlin = multivariate_normal(np.zeros(d), toeplitz(0.1 ** np.arange(0, d)), size=n)\n",
    "ylin = Xlin.dot(wstar) + normal(0,1,size=n) \n",
    "ylinstar = Xlin.dot(wstar)\n",
    "\n",
    "# Generation des donnees pour la regression logistique\n",
    "Xlog = multivariate_normal(np.zeros(d), toeplitz(0.7 ** np.arange(0, d)), size=n)\n",
    "ylog = Xlog.dot(wstar) + normal(0,1,size=n) \n",
    "ylog = np.maximum(np.sign(ylog),0)\n",
    "ylogstar = np.maximum(np.sign(Xlog.dot(wstar)),0)\n",
    "\n",
    "# - Creation des instances\n",
    "lin_none = RegNonLin(Xlin,ylin,mu,loss='lin',reg='none')# Regression lineaire sans regularisation\n",
    "lin_gauss = RegNonLin(Xlin,ylin,mu,loss='lin',reg='gauss')# Regression lineaire avec regularisation\n",
    "log_none = RegNonLin(Xlog,ylog,mu,loss='log',reg='none')# Regression logistique sans regularisation\n",
    "log_gauss = RegNonLin(Xlog,ylog,mu,loss='log',reg='gauss')# Regression logistique avec regularisation\n"
   ]
  },
  {
   "cell_type": "markdown",
   "metadata": {},
   "source": [
    "Le script ci-dessous teste finalement les problèmes de régression linéaire et les problèmes de régression logistique avec ou sans régularisation gaussienne."
   ]
  },
  {
   "cell_type": "code",
   "execution_count": 56,
   "metadata": {},
   "outputs": [
    {
     "name": "stdout",
     "output_type": "stream",
     "text": [
      "Reg. Lin. sans a priori:\n",
      " fmin=  17.20528355663729\n",
      " ngrad=  8.881784197001252e-16\n",
      " ecart avec xstar :  0.07125611896403217\n",
      "Reg. Lin. avec a priori gaussien:\n",
      " fmin=  17.76408111641589\n",
      " ngrad=  5.773159728050814e-15\n",
      " ecart avec xstar :  0.04325669629590978\n",
      "Reg. Log. sans a priori:\n",
      " fmin=  22.319967744065913\n",
      " ngrad=  0.0\n",
      " ecart avec ylogstar :  0.0\n",
      "Reg. Log. avec a priori gaussien:\n",
      " fmin=  22.986205034005074\n",
      " ngrad=  4.440892098500626e-16\n",
      " ecart avec ylogstar :  0.0\n"
     ]
    },
    {
     "data": {
      "image/png": "[encoded data removed]",
      "text/plain": [
       "<Figure size 432x288 with 1 Axes>"
      ]
     },
     "metadata": {
      "needs_background": "light"
     },
     "output_type": "display_data"
    },
    {
     "data": {
      "image/png": "[encoded data removed]",
      "text/plain": [
       "<Figure size 432x288 with 1 Axes>"
      ]
     },
     "metadata": {
      "needs_background": "light"
     },
     "output_type": "display_data"
    },
    {
     "data": {
      "image/png": "[encoded data removed]",
      "text/plain": [
       "<Figure size 432x288 with 1 Axes>"
      ]
     },
     "metadata": {
      "needs_background": "light"
     },
     "output_type": "display_data"
    },
    {
     "data": {
      "image/png": "[encoded data removed]",
      "text/plain": [
       "<Figure size 432x288 with 1 Axes>"
      ]
     },
     "metadata": {
      "needs_background": "light"
     },
     "output_type": "display_data"
    }
   ],
   "source": [
    "# On utilise ici L-BFGS-B pour determiner une solution au probleme initial\n",
    "w_init = np.zeros(d)\n",
    "\n",
    "# Regression lineaire sans regularisation\n",
    "w_lin_none, f_lin_none, _ = fmin_l_bfgs_b(lin_none.fun, w_init, lin_none.grad, args=(), pgtol=1e-30, factr =1e-30)\n",
    "print('Reg. Lin. sans a priori:')\n",
    "print(' fmin= ', f_lin_none)\n",
    "print(' ngrad= ',norm(lin_none.grad(w_lin_none)))\n",
    "print(' ecart avec xstar : ',norm(wstar-w_lin_none))\n",
    "\n",
    "# Regression lineaire avec regularisation\n",
    "w_lin_gauss, f_lin_gauss, _ = fmin_l_bfgs_b(lin_gauss.fun, w_init, lin_gauss.grad, args=(), pgtol=1e-30, factr =1e-30)\n",
    "print('Reg. Lin. avec a priori gaussien:')\n",
    "print(' fmin= ', f_lin_gauss)\n",
    "print(' ngrad= ',norm(lin_gauss.grad(w_lin_gauss)))\n",
    "print(' ecart avec xstar : ',norm(wstar-w_lin_gauss))\n",
    "\n",
    "# Regression logistique sans regularisation\n",
    "w_log_none, f_log_none, _ = fmin_l_bfgs_b(log_none.fun, w_init, log_none.grad, args=(), pgtol=1e-30, factr =1e-30)\n",
    "y_log_none = np.maximum(np.sign(Xlog.dot(w_log_none)),0)\n",
    "print('Reg. Log. sans a priori:')\n",
    "print(' fmin= ', f_log_none)\n",
    "print(' ngrad= ',norm(log_none.grad(w_log_none)))\n",
    "print(' ecart avec ylogstar : ',norm(ylogstar-y_log_none,1))\n",
    "\n",
    "# Regression logistique avec regularisation\n",
    "w_log_gauss, f_log_gauss, _ = fmin_l_bfgs_b(log_gauss.fun, w_init, log_gauss.grad, args=(), pgtol=1e-30, factr =1e-30)\n",
    "y_log_gauss = np.maximum(np.sign(Xlog.dot(w_log_gauss)),0)\n",
    "print('Reg. Log. avec a priori gaussien:')\n",
    "print(' fmin= ', f_log_gauss)\n",
    "print(' ngrad= ',norm(log_gauss.grad(w_log_gauss)))\n",
    "print(' ecart avec ylogstar : ',norm(ylogstar-y_log_gauss,1))\n",
    "\n",
    "if d==1:\n",
    "    # Affichage des donnees\n",
    "    plt.figure()\n",
    "    plt.scatter(Xlin[:,0],ylinstar,color='k',marker='o',label='Vrai modele')\n",
    "    plt.scatter(Xlin[:,0],ylin,color='red',marker='^',label='Donnees Lin')\n",
    "    plt.legend()\n",
    "    plt.show()\n",
    "    \n",
    "    # Affichage des predictions\n",
    "    plt.figure()\n",
    "    plt.plot(Xlin[:,0],ylinstar,color='k',label='Verite terrain')\n",
    "    plt.plot(Xlin[:,0],Xlin.dot(w_lin_none),color='red',label='MV Gauss')\n",
    "    plt.plot(Xlin[:,0],Xlin.dot(w_lin_gauss),color='crimson',label='MAP Gauss')\n",
    "    plt.legend()\n",
    "    plt.show()\n",
    "    \n",
    "    # Affichage des donnees\n",
    "    plt.figure()\n",
    "    plt.scatter(Xlog[:,0],ylogstar,color='k',marker='o',label='Vrai modele')\n",
    "    plt.scatter(Xlog[:,0],ylog,color='steelblue',marker='d',label='Donnees Log')\n",
    "    plt.legend()\n",
    "    plt.show()\n",
    "    \n",
    "    # Affichage des predictions\n",
    "    plt.figure()\n",
    "    plt.scatter(Xlog[:,0],ylogstar,marker='o',color='k',label='Verite terrain')\n",
    "    plt.scatter(Xlog[:,0],y_log_none,marker='d',color='steelblue',label='MV Log')\n",
    "    plt.scatter(Xlog[:,0],y_log_gauss,marker='v',color='indigo',label='MAP Gauss')\n",
    "    plt.legend()\n",
    "    plt.show()  "
   ]
  },
  {
   "cell_type": "code",
   "execution_count": 11,
   "metadata": {},
   "outputs": [],
   "source": [
    "# Version 1.0 - C. W. Royer, octobre 2022."
   ]
  }
 ],
 "metadata": {
  "kernelspec": {
   "display_name": "Python 3 (ipykernel)",
   "language": "python",
   "name": "python3"
  },
  "language_info": {
   "codemirror_mode": {
    "name": "ipython",
    "version": 3
   },
   "file_extension": ".py",
   "mimetype": "text/x-python",
   "name": "python",
   "nbconvert_exporter": "python",
   "pygments_lexer": "ipython3",
   "version": "3.7.13"
  }
 },
 "nbformat": 4,
 "nbformat_minor": 2
}
