{
 "cells": [
  {
   "cell_type": "markdown",
   "metadata": {
    "id": "xd5ny1idR-1-"
   },
   "source": [
    "### <span style=\"color:rgb(47,68,134)\">Optimisation-RO</span>\n",
    "\n",
    "### <span style=\"color:rgb(47,68,134)\">Certification Chef de projet IA 2022-2023</span>\n",
    "\n",
    "\n",
    "# <span style=\"color:rgb(47,68,134)\">Notebook de la séance 4 - Différentiation automatique</span>\n",
    "\n",
    "Pour tout commentaire concernant ce notebook (y compris les typos), merci d'envoyer un mail à **clement.royer@lamsade.dauphine.fr**."
   ]
  },
  {
   "cell_type": "markdown",
   "metadata": {
    "id": "5jWuhCSFj6YG"
   },
   "source": [
    "Le but de ce notebook est de présenter une technique de différentiation automatique implémentée dans PyTorch, une bibliothèque majeure d'entraînement de réseaux de neurones."
   ]
  },
  {
   "cell_type": "code",
   "execution_count": 1,
   "metadata": {
    "ExecuteTime": {
     "end_time": "2019-10-31T12:22:44.598927Z",
     "start_time": "2019-10-31T12:22:44.194779Z"
    },
    "id": "IBaWGusjYVl7"
   },
   "outputs": [],
   "source": [
    "# Packages utiles issus de PyTorch\n",
    "import torch\n",
    "from torch import nn # Réseaux de neurones\n",
    "import torchvision\n",
    "from torchvision import transforms\n",
    "import torch.nn.functional as F\n",
    "import matplotlib.pyplot as plt\n",
    "from torch.backends import cudnn # Réseaux de neurones en CUDA (pour GPU)\n",
    "cudnn.benchmarks = True\n",
    "import time\n",
    "\n",
    "# Autres bibliothèques\n",
    "import numpy as np # Numpy\n",
    "from numpy.random import multivariate_normal, randn\n",
    "from scipy.linalg.special_matrices import toeplitz"
   ]
  },
  {
   "cell_type": "markdown",
   "metadata": {
    "id": "e-cWMBV0YVmC"
   },
   "source": [
    "##<span style=\"color:rgb(47,68,134)\">1. Tenseurs PyTorch</span>\n",
    "\n",
    "Les tenseurs sont des tableaux multidimensionnels qui généralisent les concepts de scalaires (0 dimension), de vecteurs (1 dimension) et de matrices (2 dimensions). Les tenseurs PyTorch sont une implémentation de structures tensorielles clé pour la différentiation automatique.\n",
    "\n",
    "On décrit ci-dessous les propriétés élémentaires de ces structures."
   ]
  },
  {
   "cell_type": "code",
   "execution_count": 5,
   "metadata": {
    "ExecuteTime": {
     "end_time": "2019-10-31T09:57:07.424799Z",
     "start_time": "2019-10-31T09:57:07.419528Z"
    },
    "colab": {
     "base_uri": "https://localhost:8080/"
    },
    "id": "RDJlG-m1YVmD",
    "outputId": "88a5bc50-5123-43e2-ebca-91baa37a5d7b"
   },
   "outputs": [
    {
     "name": "stdout",
     "output_type": "stream",
     "text": [
      "tensor([10., 20.])\n",
      "tensor([[10],\n",
      "        [20]])\n",
      "tensor([[10, 20]])\n",
      "tensor(3.)\n",
      "tensor([[0., 0., 0., 0.],\n",
      "        [0., 0., 0., 0.],\n",
      "        [0., 0., 0., 0.]])\n",
      "tensor([[ 0.1619, -0.6078],\n",
      "        [ 0.7681,  1.4239]])\n"
     ]
    }
   ],
   "source": [
    "# Quelques exemples de tenseurs PyTorch\n",
    "\n",
    "# Un vecteur de taille 2\n",
    "x1 = torch.tensor([10.0,20.0])\n",
    "print(x1) # Affichage d'un tenseur (peut être illisible avec beaucoup de dimensions)\n",
    "\n",
    "# Matrice de taille 2x1\n",
    "x2 = torch.tensor([[10],[20]])\n",
    "print(x2)\n",
    "\n",
    "# Matrice de taille 1x2,\n",
    "x3 = torch.tensor([[10,20]])\n",
    "print(x3)\n",
    "\n",
    "# Tenseur de dimension 0, i.e. scalaire\n",
    "x4 = torch.tensor(3.0)\n",
    "print(x4)\n",
    "\n",
    "# Matrice nulle de taille 3x4\n",
    "x5 = torch.zeros(3,4)\n",
    "print(x5)\n",
    "\n",
    "# Matrice 2x2 dont les coefficients suivent une loi normale\n",
    "x6 = torch.randn(2,2)\n",
    "print(x6)"
   ]
  },
  {
   "cell_type": "markdown",
   "metadata": {
    "ExecuteTime": {
     "end_time": "2019-10-26T11:03:34.240390Z",
     "start_time": "2019-10-26T11:03:34.235683Z"
    },
    "id": "_6ci6jMFYVmF"
   },
   "source": [
    "Les opérations sur les tenseurs PyTorch sont les mêmes que pour les tenseurs NumPy."
   ]
  },
  {
   "cell_type": "code",
   "execution_count": 7,
   "metadata": {
    "ExecuteTime": {
     "end_time": "2019-10-31T09:57:07.819300Z",
     "start_time": "2019-10-31T09:57:07.816388Z"
    },
    "colab": {
     "base_uri": "https://localhost:8080/"
    },
    "id": "MTKzKga6YVmG",
    "outputId": "93bf4834-9a18-435a-a6a9-205b28190178"
   },
   "outputs": [
    {
     "name": "stdout",
     "output_type": "stream",
     "text": [
      "tensor([13., 23.])\n",
      "tensor([169., 529.])\n",
      "tensor([0., 0.])\n"
     ]
    }
   ],
   "source": [
    "# Ajouter 3 à tous les éléments\n",
    "x5 = x1 + 3\n",
    "print(x5)\n",
    "# Mettre tous les éléments au carré\n",
    "x6 = x5 ** 2\n",
    "print(x6)\n",
    "# Mettre tous les éléments à 0\n",
    "x6.zero_()\n",
    "print(x6)"
   ]
  },
  {
   "cell_type": "code",
   "execution_count": 8,
   "metadata": {
    "ExecuteTime": {
     "end_time": "2019-10-31T09:57:08.025291Z",
     "start_time": "2019-10-31T09:57:08.019664Z"
    },
    "colab": {
     "base_uri": "https://localhost:8080/"
    },
    "id": "gsIHnjr9YVmH",
    "outputId": "76666a8c-bcc5-4ce4-986b-e9099fc80f5d"
   },
   "outputs": [
    {
     "name": "stdout",
     "output_type": "stream",
     "text": [
      "tensor([[10, 20]])\n",
      "tensor([[10],\n",
      "        [20]])\n",
      "tensor([[100, 200],\n",
      "        [200, 400]])\n",
      "tensor([[100, 200],\n",
      "        [200, 400]])\n",
      "tensor([[100, 400]])\n"
     ]
    }
   ],
   "source": [
    "# Transposer une matrice\n",
    "x7 = x2.t()\n",
    "print(x7)\n",
    "\n",
    "# Changer les tailles d'un vecteur\n",
    "x8 = x7.view(2,1)\n",
    "print(x8)\n",
    "\n",
    "# Multiplication de matrice (2 formules équivalentes\n",
    "x9 = torch.mm(x8,x7)\n",
    "x10 = x8 @ x7\n",
    "print(x9)\n",
    "print(x10)\n",
    "\n",
    "# Produit composante à composante\n",
    "x11 = x7*x7\n",
    "print(x11)"
   ]
  },
  {
   "cell_type": "markdown",
   "metadata": {
    "ExecuteTime": {
     "end_time": "2019-10-26T11:04:11.667958Z",
     "start_time": "2019-10-26T11:04:11.663954Z"
    },
    "id": "-G-3py8jYVmJ"
   },
   "source": [
    "On peut convertir des tableaux NumPy en tenseurs PyTorch et vice-versa. Dans le second cas, on perdra cependant l'information additionnelle encodée dans les tenseurs NumPy (celle qui permet la différentiation \n",
    "automatique)."
   ]
  },
  {
   "cell_type": "code",
   "execution_count": 9,
   "metadata": {
    "ExecuteTime": {
     "end_time": "2019-10-31T09:57:08.402801Z",
     "start_time": "2019-10-31T09:57:08.399577Z"
    },
    "colab": {
     "base_uri": "https://localhost:8080/"
    },
    "id": "920oxQqxYVmK",
    "outputId": "cceaa3e4-0e7f-488e-8451-93652ad71027"
   },
   "outputs": [
    {
     "name": "stdout",
     "output_type": "stream",
     "text": [
      "[0 1 2 3 4 5 6 7 8 9]\n",
      "tensor([0., 1., 2., 3., 4., 5., 6., 7., 8., 9.])\n"
     ]
    }
   ],
   "source": [
    "# Convertir un tenseur Pytorch en tableau NumPy\n",
    "x7_numpy = x7.numpy()\n",
    "\n",
    "# Convertir un tableau NumPy en tenseur PyTorch\n",
    "a=np.arange(10) # Générer un tableau NumPy avec 10 valeurs réparties de manière égale entre 0 et 10)\n",
    "print(a)\n",
    "a_torch = torch.tensor(a,dtype=torch.float)\n",
    "print(a_torch)"
   ]
  },
  {
   "cell_type": "markdown",
   "metadata": {
    "id": "uUm7j4NVYVmP"
   },
   "source": [
    "## <span style=\"color:rgb(47,68,134)\">2. Différentiation automatique</span>"
   ]
  },
  {
   "cell_type": "markdown",
   "metadata": {
    "id": "WtKyziK1YVmP"
   },
   "source": [
    "Lorsque l'on crée un tenseur PyTorch ``x``, on peut spécifier que l'on souhaitera pouvoir calculer le gradient (par rapport à ``x``) de toute fonction ultérieurement définie de ``x``. Cela se fait au moyen de la commande ``requires_grad=True``."
   ]
  },
  {
   "cell_type": "code",
   "execution_count": 14,
   "metadata": {
    "ExecuteTime": {
     "end_time": "2019-10-31T09:57:09.011995Z",
     "start_time": "2019-10-31T09:57:09.008244Z"
    },
    "colab": {
     "base_uri": "https://localhost:8080/"
    },
    "id": "awKwA5Q2YVmQ",
    "outputId": "e65b1f19-4ced-49be-971a-fc363cffc39f"
   },
   "outputs": [
    {
     "name": "stdout",
     "output_type": "stream",
     "text": [
      "<MulBackward0 object at 0x7feea11a7b70>\n"
     ]
    }
   ],
   "source": [
    "x=torch.ones(10,10,requires_grad=True)\n",
    "y=3*x\n",
    "print(y.grad_fn)"
   ]
  },
  {
   "cell_type": "markdown",
   "metadata": {
    "id": "LSrVsyNgYVmR"
   },
   "source": [
    "Dans l'exemple ci-dessus, le gradient par rapport à ``x`` pourra être calculé via le graphe de dépendances de ``y`` vis-à-vis de ``x``. Les opérations qui permettent d'obtenir ce gradient sont enregistrés dans le champ ``y.grad_fn``.\n",
    "\n",
    "Par défaut, tout tenseur PyTorch est créé avec l'option ``requires_grad= True``. Si ce n'est pas le cas, aucune dépendance ne sera enregistrée dans de futures fonctions du tenseur, comme le montre l'exemple ci-dessous."
   ]
  },
  {
   "cell_type": "code",
   "execution_count": 15,
   "metadata": {
    "ExecuteTime": {
     "end_time": "2019-10-31T09:57:09.423847Z",
     "start_time": "2019-10-31T09:57:09.419754Z"
    },
    "colab": {
     "base_uri": "https://localhost:8080/"
    },
    "id": "kDn56kQMYVmS",
    "outputId": "c121fff8-8d50-4206-fb47-9a9248574320"
   },
   "outputs": [
    {
     "name": "stdout",
     "output_type": "stream",
     "text": [
      "None\n"
     ]
    }
   ],
   "source": [
    "# Tenseurs PyTorch sans suivi des dépendances\n",
    "x=torch.ones(10,10,requires_grad = False)\n",
    "y=3*x\n",
    "y =y.sum()\n",
    "\n",
    "\n",
    "print(y.grad_fn)"
   ]
  },
  {
   "cell_type": "markdown",
   "metadata": {
    "ExecuteTime": {
     "end_time": "2019-10-23T15:16:54.625453Z",
     "start_time": "2019-10-23T15:16:54.622001Z"
    },
    "id": "7FGrYjB4YVmT"
   },
   "source": [
    "On ne peut pas non plus commencer à suivre les dépendances alors que certaines opérations ont déjà été effectuées."
   ]
  },
  {
   "cell_type": "code",
   "execution_count": 16,
   "metadata": {
    "ExecuteTime": {
     "end_time": "2019-10-31T09:57:09.838760Z",
     "start_time": "2019-10-31T09:57:09.834686Z"
    },
    "colab": {
     "base_uri": "https://localhost:8080/"
    },
    "id": "9wDN73xdYVmU",
    "outputId": "02262170-7537-43c8-9e12-67425e04fd84"
   },
   "outputs": [
    {
     "name": "stdout",
     "output_type": "stream",
     "text": [
      "None\n",
      "None\n"
     ]
    }
   ],
   "source": [
    "x=torch.ones(10,10,requires_grad = False)\n",
    "y=3*x\n",
    "y =y.sum()\n",
    "print(y.grad_fn)\n",
    "x.requires_grad_(True)\n",
    "print(y.grad_fn)"
   ]
  },
  {
   "cell_type": "markdown",
   "metadata": {
    "ExecuteTime": {
     "end_time": "2019-10-23T15:14:10.046729Z",
     "start_time": "2019-10-23T15:14:10.040558Z"
    },
    "id": "gmqT2XAfYVmV"
   },
   "source": [
    "On s'intéresse maintenant au calcul effectif de la valeur du gradient, qui correspond à un parcours inverse (**backward pass**) du graphe de calcul. Dans l'exemple ci-dessous, ``x`` est une matrice 10x10, et on cherche le gradient de la fonction $\\sum_{i,j} 3 x_{ij}$."
   ]
  },
  {
   "cell_type": "code",
   "execution_count": 17,
   "metadata": {
    "ExecuteTime": {
     "end_time": "2019-10-31T09:57:10.264539Z",
     "start_time": "2019-10-31T09:57:10.260725Z"
    },
    "id": "TFWbpstkYVmW"
   },
   "outputs": [],
   "source": [
    "x=torch.ones(10,10,requires_grad = True)\n",
    "y=3*x\n",
    "y = y.sum()\n",
    "y.backward() # Lance la procédure de parcours inverse"
   ]
  },
  {
   "cell_type": "markdown",
   "metadata": {
    "ExecuteTime": {
     "end_time": "2019-10-23T15:20:51.883134Z",
     "start_time": "2019-10-23T15:20:51.879830Z"
    },
    "id": "1yvOncSgYVmX"
   },
   "source": [
    "Une fois que ce parcours inverse a été effectué, la dérivée de ``y`` par rapport à ``x`` est directement accessible dans ``x`` via la structure ``x.grad``. On notera que ce ''gradient'' est toujours de la même dimension que le tenseur de départ."
   ]
  },
  {
   "cell_type": "code",
   "execution_count": 18,
   "metadata": {
    "ExecuteTime": {
     "end_time": "2019-10-31T09:57:10.699618Z",
     "start_time": "2019-10-31T09:57:10.691675Z"
    },
    "colab": {
     "base_uri": "https://localhost:8080/"
    },
    "id": "b-JCgm-CYVmX",
    "outputId": "93ddaf39-55a0-4ae7-a182-0d94b1e69e40"
   },
   "outputs": [
    {
     "data": {
      "text/plain": [
       "tensor([[3., 3., 3., 3., 3., 3., 3., 3., 3., 3.],\n",
       "        [3., 3., 3., 3., 3., 3., 3., 3., 3., 3.],\n",
       "        [3., 3., 3., 3., 3., 3., 3., 3., 3., 3.],\n",
       "        [3., 3., 3., 3., 3., 3., 3., 3., 3., 3.],\n",
       "        [3., 3., 3., 3., 3., 3., 3., 3., 3., 3.],\n",
       "        [3., 3., 3., 3., 3., 3., 3., 3., 3., 3.],\n",
       "        [3., 3., 3., 3., 3., 3., 3., 3., 3., 3.],\n",
       "        [3., 3., 3., 3., 3., 3., 3., 3., 3., 3.],\n",
       "        [3., 3., 3., 3., 3., 3., 3., 3., 3., 3.],\n",
       "        [3., 3., 3., 3., 3., 3., 3., 3., 3., 3.]])"
      ]
     },
     "execution_count": 18,
     "metadata": {
      "tags": []
     },
     "output_type": "execute_result"
    }
   ],
   "source": [
    "# x.grad affiche le tenseur des dérivées de y par rapport à chacun des coefficients de x\n",
    "x.grad"
   ]
  },
  {
   "cell_type": "markdown",
   "metadata": {
    "id": "C3LS5j85YVmY"
   },
   "source": [
    "Dans l'exemple précédent, la valeur de y lorsque l'on effectue le parcours inverse est un scalaire. Lorsqu'il s'agit d'un tenseur, il est nécessaire de préciser un tenseur relativement à quoi le gradient peut être calculé."
   ]
  },
  {
   "cell_type": "code",
   "execution_count": 20,
   "metadata": {
    "ExecuteTime": {
     "end_time": "2019-10-31T09:57:11.356004Z",
     "start_time": "2019-10-31T09:57:11.349552Z"
    },
    "colab": {
     "base_uri": "https://localhost:8080/"
    },
    "id": "Kw2ahBDaYVmZ",
    "outputId": "5608ba79-f43c-4867-b5cc-3f58d7518a06"
   },
   "outputs": [
    {
     "name": "stdout",
     "output_type": "stream",
     "text": [
      "tensor([[3., 3., 3., 3., 3., 3., 3., 3., 3., 3.],\n",
      "        [3., 3., 3., 3., 3., 3., 3., 3., 3., 3.],\n",
      "        [3., 3., 3., 3., 3., 3., 3., 3., 3., 3.],\n",
      "        [3., 3., 3., 3., 3., 3., 3., 3., 3., 3.],\n",
      "        [3., 3., 3., 3., 3., 3., 3., 3., 3., 3.],\n",
      "        [3., 3., 3., 3., 3., 3., 3., 3., 3., 3.],\n",
      "        [3., 3., 3., 3., 3., 3., 3., 3., 3., 3.],\n",
      "        [3., 3., 3., 3., 3., 3., 3., 3., 3., 3.],\n",
      "        [3., 3., 3., 3., 3., 3., 3., 3., 3., 3.],\n",
      "        [3., 3., 3., 3., 3., 3., 3., 3., 3., 3.]])\n"
     ]
    }
   ],
   "source": [
    "# Obtenir un gradient (une Jacobienne) pour une fonction à valeurs tensorielles\n",
    "x=torch.ones(10,10,requires_grad = True)\n",
    "y=3*x\n",
    "\n",
    "y.backward(torch.ones(x.shape)) # Utiliser un tenseur autre que 1 multiplierait les coefficients du gradient\n",
    "print(x.grad)"
   ]
  },
  {
   "cell_type": "markdown",
   "metadata": {
    "id": "Kn4wRmV8YVma"
   },
   "source": [
    "Un seul appel à ``backward`` permet d'obtenir plusieurs gradients. "
   ]
  },
  {
   "cell_type": "code",
   "execution_count": 21,
   "metadata": {
    "ExecuteTime": {
     "end_time": "2019-10-31T09:57:12.054170Z",
     "start_time": "2019-10-31T09:57:12.048288Z"
    },
    "colab": {
     "base_uri": "https://localhost:8080/"
    },
    "id": "xY3OYm-SYVma",
    "outputId": "51cc94ee-0c44-4a71-c0d1-5960b9b035a3"
   },
   "outputs": [
    {
     "name": "stdout",
     "output_type": "stream",
     "text": [
      "tensor([10.])\n",
      "tensor([40.])\n"
     ]
    }
   ],
   "source": [
    "# Ici y est une fonction de deux tenseurs a et b\n",
    "# L'appel à backward() permet de calculer le gradient de y \n",
    "# relativement à a et b\n",
    "a = torch.ones(1, requires_grad = True)\n",
    "b = torch.ones(1, requires_grad = True)\n",
    "y=(a+4*b)**2\n",
    "y.backward()\n",
    "print(a.grad)\n",
    "print(b.grad)\n"
   ]
  },
  {
   "cell_type": "markdown",
   "metadata": {
    "id": "pphw6Wl9OTon"
   },
   "source": [
    "### <span style=\"color:rgb(47,68,134)\">Application</span> \n",
    "\n",
    "On s'intéresse à la fonction $f(x)=(1+x^2e^{-x})^{1/3}$ et à sa dérivée sur [-1,1]."
   ]
  },
  {
   "cell_type": "code",
   "execution_count": 24,
   "metadata": {
    "colab": {
     "base_uri": "https://localhost:8080/",
     "height": 706
    },
    "id": "rl0-GCCDOylY",
    "outputId": "bb698d8f-c1d9-4abf-85e2-f434edb0b619"
   },
   "outputs": [
    {
     "name": "stdout",
     "output_type": "stream",
     "text": [
      "tensor([-1.1326e+00, -1.1127e+00, -1.0926e+00, -1.0722e+00, -1.0515e+00,\n",
      "        -1.0305e+00, -1.0092e+00, -9.8760e-01, -9.6566e-01, -9.4340e-01,\n",
      "        -9.2080e-01, -8.9787e-01, -8.7459e-01, -8.5098e-01, -8.2703e-01,\n",
      "        -8.0276e-01, -7.7817e-01, -7.5328e-01, -7.2809e-01, -7.0264e-01,\n",
      "        -6.7693e-01, -6.5101e-01, -6.2490e-01, -5.9863e-01, -5.7224e-01,\n",
      "        -5.4577e-01, -5.1927e-01, -4.9278e-01, -4.6635e-01, -4.4004e-01,\n",
      "        -4.1390e-01, -3.8798e-01, -3.6233e-01, -3.3702e-01, -3.1210e-01,\n",
      "        -2.8762e-01, -2.6363e-01, -2.4018e-01, -2.1732e-01, -1.9509e-01,\n",
      "        -1.7353e-01, -1.5267e-01, -1.3255e-01, -1.1318e-01, -9.4591e-02,\n",
      "        -7.6797e-02, -5.9810e-02, -4.3637e-02, -2.8279e-02, -1.3735e-02,\n",
      "         5.9212e-16,  1.2935e-02,  2.5083e-02,  3.6458e-02,  4.7078e-02,\n",
      "         5.6963e-02,  6.6135e-02,  7.4615e-02,  8.2429e-02,  8.9602e-02,\n",
      "         9.6160e-02,  1.0213e-01,  1.0753e-01,  1.1240e-01,  1.1676e-01,\n",
      "         1.2063e-01,  1.2405e-01,  1.2703e-01,  1.2960e-01,  1.3179e-01,\n",
      "         1.3361e-01,  1.3509e-01,  1.3625e-01,  1.3711e-01,  1.3769e-01,\n",
      "         1.3801e-01,  1.3809e-01,  1.3793e-01,  1.3757e-01,  1.3701e-01,\n",
      "         1.3626e-01,  1.3535e-01,  1.3429e-01,  1.3308e-01,  1.3174e-01,\n",
      "         1.3027e-01,  1.2870e-01,  1.2703e-01,  1.2526e-01,  1.2341e-01,\n",
      "         1.2149e-01,  1.1950e-01,  1.1744e-01,  1.1533e-01,  1.1318e-01,\n",
      "         1.1098e-01,  1.0874e-01,  1.0647e-01,  1.0417e-01,  1.0185e-01],\n",
      "       dtype=torch.float64)\n"
     ]
    },
    {
     "data": {
      "image/png": "[encoded data removed]",
      "text/plain": [
       "<Figure size 504x360 with 1 Axes>"
      ]
     },
     "metadata": {
      "needs_background": "light",
      "tags": []
     },
     "output_type": "display_data"
    }
   ],
   "source": [
    "# Création d'un tableau NumPy à valeurs dans [-1,1]\n",
    "v=np.arange(-1,1,0.02) \n",
    "\n",
    "# Création du tenseur PyTorch correspondant\n",
    "x=torch.tensor(v,requires_grad = True)\n",
    "# Création du tenseur contenant les f(x_i) où x_i est un coefficient de x \n",
    "# NB: On pourrait différencier f par rapport à n'importe quelle\n",
    "# variable ci-dessous\n",
    "y=x**2\n",
    "z=torch.exp(-x)\n",
    "w=1+y*z\n",
    "f = w**(1/3)\n",
    "\n",
    "# Appel de backward sur f (Rappel : f est un tenseur et non un scalaire)\n",
    "f.backward(torch.ones(x.shape))\n",
    "print(x.grad)\n",
    "\n",
    "# Affichage de f et x.grad\n",
    "# Pour les afficher comme des tableaux NumPy, il est nécessaire \n",
    "# d'utiliser la commande detach().\n",
    "plt.figure(figsize=(7, 5))\n",
    "plt.plot(v,f.detach().numpy(),'g',label='f(x)')\n",
    "plt.plot(v,x.grad.detach().numpy(),'b',label=\"f'(x) autodiff\")\n",
    "plt.legend()\n",
    "plt.show()"
   ]
  },
  {
   "cell_type": "code",
   "execution_count": null,
   "metadata": {},
   "outputs": [],
   "source": [
    "# Version 1.0 - C. W. Royer, octobre 2022."
   ]
  }
 ],
 "metadata": {
  "accelerator": "GPU",
  "colab": {
   "collapsed_sections": [],
   "name": "LabOML02-Solutions.ipynb",
   "provenance": []
  },
  "kernelspec": {
   "display_name": "Python 3 (ipykernel)",
   "language": "python",
   "name": "python3"
  },
  "language_info": {
   "codemirror_mode": {
    "name": "ipython",
    "version": 3
   },
   "file_extension": ".py",
   "mimetype": "text/x-python",
   "name": "python",
   "nbconvert_exporter": "python",
   "pygments_lexer": "ipython3",
   "version": "3.7.13"
  },
  "widgets": {
   "application/vnd.jupyter.widget-state+json": {
    "04b83f1666a64e02af2d7b76883db0ad": {
     "model_module": "@jupyter-widgets/base",
     "model_name": "LayoutModel",
     "state": {
      "_model_module": "@jupyter-widgets/base",
      "_model_module_version": "1.2.0",
      "_model_name": "LayoutModel",
      "_view_count": null,
      "_view_module": "@jupyter-widgets/base",
      "_view_module_version": "1.2.0",
      "_view_name": "LayoutView",
      "align_content": null,
      "align_items": null,
      "align_self": null,
      "border": null,
      "bottom": null,
      "display": null,
      "flex": null,
      "flex_flow": null,
      "grid_area": null,
      "grid_auto_columns": null,
      "grid_auto_flow": null,
      "grid_auto_rows": null,
      "grid_column": null,
      "grid_gap": null,
      "grid_row": null,
      "grid_template_areas": null,
      "grid_template_columns": null,
      "grid_template_rows": null,
      "height": null,
      "justify_content": null,
      "justify_items": null,
      "left": null,
      "margin": null,
      "max_height": null,
      "max_width": null,
      "min_height": null,
      "min_width": null,
      "object_fit": null,
      "object_position": null,
      "order": null,
      "overflow": null,
      "overflow_x": null,
      "overflow_y": null,
      "padding": null,
      "right": null,
      "top": null,
      "visibility": null,
      "width": null
     }
    },
    "0e96bf2763624c22a05a9804af118616": {
     "model_module": "@jupyter-widgets/controls",
     "model_name": "FloatProgressModel",
     "state": {
      "_dom_classes": [],
      "_model_module": "@jupyter-widgets/controls",
      "_model_module_version": "1.5.0",
      "_model_name": "FloatProgressModel",
      "_view_count": null,
      "_view_module": "@jupyter-widgets/controls",
      "_view_module_version": "1.5.0",
      "_view_name": "ProgressView",
      "bar_style": "success",
      "description": "",
      "description_tooltip": null,
      "layout": "IPY_MODEL_04b83f1666a64e02af2d7b76883db0ad",
      "max": 1,
      "min": 0,
      "orientation": "horizontal",
      "style": "IPY_MODEL_1cf3bf52a01646cf8a4cee94a4042c24",
      "value": 1
     }
    },
    "13ac9b9c9a4f4490b6d2e4dad83d8b8a": {
     "model_module": "@jupyter-widgets/base",
     "model_name": "LayoutModel",
     "state": {
      "_model_module": "@jupyter-widgets/base",
      "_model_module_version": "1.2.0",
      "_model_name": "LayoutModel",
      "_view_count": null,
      "_view_module": "@jupyter-widgets/base",
      "_view_module_version": "1.2.0",
      "_view_name": "LayoutView",
      "align_content": null,
      "align_items": null,
      "align_self": null,
      "border": null,
      "bottom": null,
      "display": null,
      "flex": null,
      "flex_flow": null,
      "grid_area": null,
      "grid_auto_columns": null,
      "grid_auto_flow": null,
      "grid_auto_rows": null,
      "grid_column": null,
      "grid_gap": null,
      "grid_row": null,
      "grid_template_areas": null,
      "grid_template_columns": null,
      "grid_template_rows": null,
      "height": null,
      "justify_content": null,
      "justify_items": null,
      "left": null,
      "margin": null,
      "max_height": null,
      "max_width": null,
      "min_height": null,
      "min_width": null,
      "object_fit": null,
      "object_position": null,
      "order": null,
      "overflow": null,
      "overflow_x": null,
      "overflow_y": null,
      "padding": null,
      "right": null,
      "top": null,
      "visibility": null,
      "width": null
     }
    },
    "1cf3bf52a01646cf8a4cee94a4042c24": {
     "model_module": "@jupyter-widgets/controls",
     "model_name": "ProgressStyleModel",
     "state": {
      "_model_module": "@jupyter-widgets/controls",
      "_model_module_version": "1.5.0",
      "_model_name": "ProgressStyleModel",
      "_view_count": null,
      "_view_module": "@jupyter-widgets/base",
      "_view_module_version": "1.2.0",
      "_view_name": "StyleView",
      "bar_color": null,
      "description_width": "initial"
     }
    },
    "1f7ca0df0861479b904868245b6ed43c": {
     "model_module": "@jupyter-widgets/base",
     "model_name": "LayoutModel",
     "state": {
      "_model_module": "@jupyter-widgets/base",
      "_model_module_version": "1.2.0",
      "_model_name": "LayoutModel",
      "_view_count": null,
      "_view_module": "@jupyter-widgets/base",
      "_view_module_version": "1.2.0",
      "_view_name": "LayoutView",
      "align_content": null,
      "align_items": null,
      "align_self": null,
      "border": null,
      "bottom": null,
      "display": null,
      "flex": null,
      "flex_flow": null,
      "grid_area": null,
      "grid_auto_columns": null,
      "grid_auto_flow": null,
      "grid_auto_rows": null,
      "grid_column": null,
      "grid_gap": null,
      "grid_row": null,
      "grid_template_areas": null,
      "grid_template_columns": null,
      "grid_template_rows": null,
      "height": null,
      "justify_content": null,
      "justify_items": null,
      "left": null,
      "margin": null,
      "max_height": null,
      "max_width": null,
      "min_height": null,
      "min_width": null,
      "object_fit": null,
      "object_position": null,
      "order": null,
      "overflow": null,
      "overflow_x": null,
      "overflow_y": null,
      "padding": null,
      "right": null,
      "top": null,
      "visibility": null,
      "width": null
     }
    },
    "2386b319a92447328674d9067b28c56f": {
     "model_module": "@jupyter-widgets/controls",
     "model_name": "DescriptionStyleModel",
     "state": {
      "_model_module": "@jupyter-widgets/controls",
      "_model_module_version": "1.5.0",
      "_model_name": "DescriptionStyleModel",
      "_view_count": null,
      "_view_module": "@jupyter-widgets/base",
      "_view_module_version": "1.2.0",
      "_view_name": "StyleView",
      "description_width": ""
     }
    },
    "25daec40451c44538e1e5dda09c4c352": {
     "model_module": "@jupyter-widgets/base",
     "model_name": "LayoutModel",
     "state": {
      "_model_module": "@jupyter-widgets/base",
      "_model_module_version": "1.2.0",
      "_model_name": "LayoutModel",
      "_view_count": null,
      "_view_module": "@jupyter-widgets/base",
      "_view_module_version": "1.2.0",
      "_view_name": "LayoutView",
      "align_content": null,
      "align_items": null,
      "align_self": null,
      "border": null,
      "bottom": null,
      "display": null,
      "flex": null,
      "flex_flow": null,
      "grid_area": null,
      "grid_auto_columns": null,
      "grid_auto_flow": null,
      "grid_auto_rows": null,
      "grid_column": null,
      "grid_gap": null,
      "grid_row": null,
      "grid_template_areas": null,
      "grid_template_columns": null,
      "grid_template_rows": null,
      "height": null,
      "justify_content": null,
      "justify_items": null,
      "left": null,
      "margin": null,
      "max_height": null,
      "max_width": null,
      "min_height": null,
      "min_width": null,
      "object_fit": null,
      "object_position": null,
      "order": null,
      "overflow": null,
      "overflow_x": null,
      "overflow_y": null,
      "padding": null,
      "right": null,
      "top": null,
      "visibility": null,
      "width": null
     }
    },
    "2889eb02682141e1a6aaa9489f030900": {
     "model_module": "@jupyter-widgets/controls",
     "model_name": "HBoxModel",
     "state": {
      "_dom_classes": [],
      "_model_module": "@jupyter-widgets/controls",
      "_model_module_version": "1.5.0",
      "_model_name": "HBoxModel",
      "_view_count": null,
      "_view_module": "@jupyter-widgets/controls",
      "_view_module_version": "1.5.0",
      "_view_name": "HBoxView",
      "box_style": "",
      "children": [
       "IPY_MODEL_d76502fd94974c43a14e2595ee57937d",
       "IPY_MODEL_9f8295a42846455298c6eeb9c6b1447c"
      ],
      "layout": "IPY_MODEL_d0a347869f284835886d2758c1daf4de"
     }
    },
    "3879eb52fa9b40f38b3ee521745f2ed9": {
     "model_module": "@jupyter-widgets/base",
     "model_name": "LayoutModel",
     "state": {
      "_model_module": "@jupyter-widgets/base",
      "_model_module_version": "1.2.0",
      "_model_name": "LayoutModel",
      "_view_count": null,
      "_view_module": "@jupyter-widgets/base",
      "_view_module_version": "1.2.0",
      "_view_name": "LayoutView",
      "align_content": null,
      "align_items": null,
      "align_self": null,
      "border": null,
      "bottom": null,
      "display": null,
      "flex": null,
      "flex_flow": null,
      "grid_area": null,
      "grid_auto_columns": null,
      "grid_auto_flow": null,
      "grid_auto_rows": null,
      "grid_column": null,
      "grid_gap": null,
      "grid_row": null,
      "grid_template_areas": null,
      "grid_template_columns": null,
      "grid_template_rows": null,
      "height": null,
      "justify_content": null,
      "justify_items": null,
      "left": null,
      "margin": null,
      "max_height": null,
      "max_width": null,
      "min_height": null,
      "min_width": null,
      "object_fit": null,
      "object_position": null,
      "order": null,
      "overflow": null,
      "overflow_x": null,
      "overflow_y": null,
      "padding": null,
      "right": null,
      "top": null,
      "visibility": null,
      "width": null
     }
    },
    "4b768a0d73c64507965d837b1ab121ef": {
     "model_module": "@jupyter-widgets/controls",
     "model_name": "HBoxModel",
     "state": {
      "_dom_classes": [],
      "_model_module": "@jupyter-widgets/controls",
      "_model_module_version": "1.5.0",
      "_model_name": "HBoxModel",
      "_view_count": null,
      "_view_module": "@jupyter-widgets/controls",
      "_view_module_version": "1.5.0",
      "_view_name": "HBoxView",
      "box_style": "",
      "children": [
       "IPY_MODEL_aac558f593f54b3cbc3049ca8e9b0cfb",
       "IPY_MODEL_6c14b56b59e742dc87c6982b36b90d49"
      ],
      "layout": "IPY_MODEL_61111773208c490b970a9ee450ca9cbf"
     }
    },
    "542ade372b2841e292a9ea4f8b0bda4f": {
     "model_module": "@jupyter-widgets/base",
     "model_name": "LayoutModel",
     "state": {
      "_model_module": "@jupyter-widgets/base",
      "_model_module_version": "1.2.0",
      "_model_name": "LayoutModel",
      "_view_count": null,
      "_view_module": "@jupyter-widgets/base",
      "_view_module_version": "1.2.0",
      "_view_name": "LayoutView",
      "align_content": null,
      "align_items": null,
      "align_self": null,
      "border": null,
      "bottom": null,
      "display": null,
      "flex": null,
      "flex_flow": null,
      "grid_area": null,
      "grid_auto_columns": null,
      "grid_auto_flow": null,
      "grid_auto_rows": null,
      "grid_column": null,
      "grid_gap": null,
      "grid_row": null,
      "grid_template_areas": null,
      "grid_template_columns": null,
      "grid_template_rows": null,
      "height": null,
      "justify_content": null,
      "justify_items": null,
      "left": null,
      "margin": null,
      "max_height": null,
      "max_width": null,
      "min_height": null,
      "min_width": null,
      "object_fit": null,
      "object_position": null,
      "order": null,
      "overflow": null,
      "overflow_x": null,
      "overflow_y": null,
      "padding": null,
      "right": null,
      "top": null,
      "visibility": null,
      "width": null
     }
    },
    "61111773208c490b970a9ee450ca9cbf": {
     "model_module": "@jupyter-widgets/base",
     "model_name": "LayoutModel",
     "state": {
      "_model_module": "@jupyter-widgets/base",
      "_model_module_version": "1.2.0",
      "_model_name": "LayoutModel",
      "_view_count": null,
      "_view_module": "@jupyter-widgets/base",
      "_view_module_version": "1.2.0",
      "_view_name": "LayoutView",
      "align_content": null,
      "align_items": null,
      "align_self": null,
      "border": null,
      "bottom": null,
      "display": null,
      "flex": null,
      "flex_flow": null,
      "grid_area": null,
      "grid_auto_columns": null,
      "grid_auto_flow": null,
      "grid_auto_rows": null,
      "grid_column": null,
      "grid_gap": null,
      "grid_row": null,
      "grid_template_areas": null,
      "grid_template_columns": null,
      "grid_template_rows": null,
      "height": null,
      "justify_content": null,
      "justify_items": null,
      "left": null,
      "margin": null,
      "max_height": null,
      "max_width": null,
      "min_height": null,
      "min_width": null,
      "object_fit": null,
      "object_position": null,
      "order": null,
      "overflow": null,
      "overflow_x": null,
      "overflow_y": null,
      "padding": null,
      "right": null,
      "top": null,
      "visibility": null,
      "width": null
     }
    },
    "6c14b56b59e742dc87c6982b36b90d49": {
     "model_module": "@jupyter-widgets/controls",
     "model_name": "HTMLModel",
     "state": {
      "_dom_classes": [],
      "_model_module": "@jupyter-widgets/controls",
      "_model_module_version": "1.5.0",
      "_model_name": "HTMLModel",
      "_view_count": null,
      "_view_module": "@jupyter-widgets/controls",
      "_view_module_version": "1.5.0",
      "_view_name": "HTMLView",
      "description": "",
      "description_tooltip": null,
      "layout": "IPY_MODEL_ca07291da28d41b5b47ecb55f50ffa63",
      "placeholder": "​",
      "style": "IPY_MODEL_2386b319a92447328674d9067b28c56f",
      "value": " 0/? [00:00&lt;?, ?it/s]"
     }
    },
    "9f8295a42846455298c6eeb9c6b1447c": {
     "model_module": "@jupyter-widgets/controls",
     "model_name": "HTMLModel",
     "state": {
      "_dom_classes": [],
      "_model_module": "@jupyter-widgets/controls",
      "_model_module_version": "1.5.0",
      "_model_name": "HTMLModel",
      "_view_count": null,
      "_view_module": "@jupyter-widgets/controls",
      "_view_module_version": "1.5.0",
      "_view_name": "HTMLView",
      "description": "",
      "description_tooltip": null,
      "layout": "IPY_MODEL_1f7ca0df0861479b904868245b6ed43c",
      "placeholder": "​",
      "style": "IPY_MODEL_fcd5959bf1a246a5a3aef748b896e797",
      "value": " 0/? [00:00&lt;?, ?it/s]"
     }
    },
    "a100fa38e05e400a888567d6e84a0a49": {
     "model_module": "@jupyter-widgets/controls",
     "model_name": "DescriptionStyleModel",
     "state": {
      "_model_module": "@jupyter-widgets/controls",
      "_model_module_version": "1.5.0",
      "_model_name": "DescriptionStyleModel",
      "_view_count": null,
      "_view_module": "@jupyter-widgets/base",
      "_view_module_version": "1.2.0",
      "_view_name": "StyleView",
      "description_width": ""
     }
    },
    "a7c3eb759b104116b97d5049ac7a26a8": {
     "model_module": "@jupyter-widgets/controls",
     "model_name": "HBoxModel",
     "state": {
      "_dom_classes": [],
      "_model_module": "@jupyter-widgets/controls",
      "_model_module_version": "1.5.0",
      "_model_name": "HBoxModel",
      "_view_count": null,
      "_view_module": "@jupyter-widgets/controls",
      "_view_module_version": "1.5.0",
      "_view_name": "HBoxView",
      "box_style": "",
      "children": [
       "IPY_MODEL_0e96bf2763624c22a05a9804af118616",
       "IPY_MODEL_db36edfe535840d1a5f6d6ea3f3d71d1"
      ],
      "layout": "IPY_MODEL_eb3f181b7e3d4d1dad440f02fe358f30"
     }
    },
    "aac558f593f54b3cbc3049ca8e9b0cfb": {
     "model_module": "@jupyter-widgets/controls",
     "model_name": "FloatProgressModel",
     "state": {
      "_dom_classes": [],
      "_model_module": "@jupyter-widgets/controls",
      "_model_module_version": "1.5.0",
      "_model_name": "FloatProgressModel",
      "_view_count": null,
      "_view_module": "@jupyter-widgets/controls",
      "_view_module_version": "1.5.0",
      "_view_name": "ProgressView",
      "bar_style": "info",
      "description": "",
      "description_tooltip": null,
      "layout": "IPY_MODEL_3879eb52fa9b40f38b3ee521745f2ed9",
      "max": 1,
      "min": 0,
      "orientation": "horizontal",
      "style": "IPY_MODEL_d4b1a751884745c5a8700f24dd4e3f28",
      "value": 0
     }
    },
    "af9791ff555148baac7ee0e8ecbddd9e": {
     "model_module": "@jupyter-widgets/controls",
     "model_name": "FloatProgressModel",
     "state": {
      "_dom_classes": [],
      "_model_module": "@jupyter-widgets/controls",
      "_model_module_version": "1.5.0",
      "_model_name": "FloatProgressModel",
      "_view_count": null,
      "_view_module": "@jupyter-widgets/controls",
      "_view_module_version": "1.5.0",
      "_view_name": "ProgressView",
      "bar_style": "info",
      "description": "",
      "description_tooltip": null,
      "layout": "IPY_MODEL_13ac9b9c9a4f4490b6d2e4dad83d8b8a",
      "max": 1,
      "min": 0,
      "orientation": "horizontal",
      "style": "IPY_MODEL_d9953a472c15484a9aeaccb888d93094",
      "value": 1
     }
    },
    "b9d4e866abb54ae09bc2978cf52affa6": {
     "model_module": "@jupyter-widgets/controls",
     "model_name": "ProgressStyleModel",
     "state": {
      "_model_module": "@jupyter-widgets/controls",
      "_model_module_version": "1.5.0",
      "_model_name": "ProgressStyleModel",
      "_view_count": null,
      "_view_module": "@jupyter-widgets/base",
      "_view_module_version": "1.2.0",
      "_view_name": "StyleView",
      "bar_color": null,
      "description_width": "initial"
     }
    },
    "ca07291da28d41b5b47ecb55f50ffa63": {
     "model_module": "@jupyter-widgets/base",
     "model_name": "LayoutModel",
     "state": {
      "_model_module": "@jupyter-widgets/base",
      "_model_module_version": "1.2.0",
      "_model_name": "LayoutModel",
      "_view_count": null,
      "_view_module": "@jupyter-widgets/base",
      "_view_module_version": "1.2.0",
      "_view_name": "LayoutView",
      "align_content": null,
      "align_items": null,
      "align_self": null,
      "border": null,
      "bottom": null,
      "display": null,
      "flex": null,
      "flex_flow": null,
      "grid_area": null,
      "grid_auto_columns": null,
      "grid_auto_flow": null,
      "grid_auto_rows": null,
      "grid_column": null,
      "grid_gap": null,
      "grid_row": null,
      "grid_template_areas": null,
      "grid_template_columns": null,
      "grid_template_rows": null,
      "height": null,
      "justify_content": null,
      "justify_items": null,
      "left": null,
      "margin": null,
      "max_height": null,
      "max_width": null,
      "min_height": null,
      "min_width": null,
      "object_fit": null,
      "object_position": null,
      "order": null,
      "overflow": null,
      "overflow_x": null,
      "overflow_y": null,
      "padding": null,
      "right": null,
      "top": null,
      "visibility": null,
      "width": null
     }
    },
    "d0a347869f284835886d2758c1daf4de": {
     "model_module": "@jupyter-widgets/base",
     "model_name": "LayoutModel",
     "state": {
      "_model_module": "@jupyter-widgets/base",
      "_model_module_version": "1.2.0",
      "_model_name": "LayoutModel",
      "_view_count": null,
      "_view_module": "@jupyter-widgets/base",
      "_view_module_version": "1.2.0",
      "_view_name": "LayoutView",
      "align_content": null,
      "align_items": null,
      "align_self": null,
      "border": null,
      "bottom": null,
      "display": null,
      "flex": null,
      "flex_flow": null,
      "grid_area": null,
      "grid_auto_columns": null,
      "grid_auto_flow": null,
      "grid_auto_rows": null,
      "grid_column": null,
      "grid_gap": null,
      "grid_row": null,
      "grid_template_areas": null,
      "grid_template_columns": null,
      "grid_template_rows": null,
      "height": null,
      "justify_content": null,
      "justify_items": null,
      "left": null,
      "margin": null,
      "max_height": null,
      "max_width": null,
      "min_height": null,
      "min_width": null,
      "object_fit": null,
      "object_position": null,
      "order": null,
      "overflow": null,
      "overflow_x": null,
      "overflow_y": null,
      "padding": null,
      "right": null,
      "top": null,
      "visibility": null,
      "width": null
     }
    },
    "d4b1a751884745c5a8700f24dd4e3f28": {
     "model_module": "@jupyter-widgets/controls",
     "model_name": "ProgressStyleModel",
     "state": {
      "_model_module": "@jupyter-widgets/controls",
      "_model_module_version": "1.5.0",
      "_model_name": "ProgressStyleModel",
      "_view_count": null,
      "_view_module": "@jupyter-widgets/base",
      "_view_module_version": "1.2.0",
      "_view_name": "StyleView",
      "bar_color": null,
      "description_width": "initial"
     }
    },
    "d6073eb318514d5994ef212c7b9abfdc": {
     "model_module": "@jupyter-widgets/controls",
     "model_name": "HTMLModel",
     "state": {
      "_dom_classes": [],
      "_model_module": "@jupyter-widgets/controls",
      "_model_module_version": "1.5.0",
      "_model_name": "HTMLModel",
      "_view_count": null,
      "_view_module": "@jupyter-widgets/controls",
      "_view_module_version": "1.5.0",
      "_view_name": "HTMLView",
      "description": "",
      "description_tooltip": null,
      "layout": "IPY_MODEL_feaa4d188b044f369859a8d12145acd8",
      "placeholder": "​",
      "style": "IPY_MODEL_a100fa38e05e400a888567d6e84a0a49",
      "value": " 1654784/? [00:19&lt;00:00, 140141.16it/s]"
     }
    },
    "d76502fd94974c43a14e2595ee57937d": {
     "model_module": "@jupyter-widgets/controls",
     "model_name": "FloatProgressModel",
     "state": {
      "_dom_classes": [],
      "_model_module": "@jupyter-widgets/controls",
      "_model_module_version": "1.5.0",
      "_model_name": "FloatProgressModel",
      "_view_count": null,
      "_view_module": "@jupyter-widgets/controls",
      "_view_module_version": "1.5.0",
      "_view_name": "ProgressView",
      "bar_style": "info",
      "description": "",
      "description_tooltip": null,
      "layout": "IPY_MODEL_25daec40451c44538e1e5dda09c4c352",
      "max": 1,
      "min": 0,
      "orientation": "horizontal",
      "style": "IPY_MODEL_b9d4e866abb54ae09bc2978cf52affa6",
      "value": 0
     }
    },
    "d7fac056c76e4ae7bceef35b18a8c984": {
     "model_module": "@jupyter-widgets/controls",
     "model_name": "HBoxModel",
     "state": {
      "_dom_classes": [],
      "_model_module": "@jupyter-widgets/controls",
      "_model_module_version": "1.5.0",
      "_model_name": "HBoxModel",
      "_view_count": null,
      "_view_module": "@jupyter-widgets/controls",
      "_view_module_version": "1.5.0",
      "_view_name": "HBoxView",
      "box_style": "",
      "children": [
       "IPY_MODEL_af9791ff555148baac7ee0e8ecbddd9e",
       "IPY_MODEL_d6073eb318514d5994ef212c7b9abfdc"
      ],
      "layout": "IPY_MODEL_dd0ba424e8864d2da4f9bbbbb28a5509"
     }
    },
    "d9953a472c15484a9aeaccb888d93094": {
     "model_module": "@jupyter-widgets/controls",
     "model_name": "ProgressStyleModel",
     "state": {
      "_model_module": "@jupyter-widgets/controls",
      "_model_module_version": "1.5.0",
      "_model_name": "ProgressStyleModel",
      "_view_count": null,
      "_view_module": "@jupyter-widgets/base",
      "_view_module_version": "1.2.0",
      "_view_name": "StyleView",
      "bar_color": null,
      "description_width": "initial"
     }
    },
    "db36edfe535840d1a5f6d6ea3f3d71d1": {
     "model_module": "@jupyter-widgets/controls",
     "model_name": "HTMLModel",
     "state": {
      "_dom_classes": [],
      "_model_module": "@jupyter-widgets/controls",
      "_model_module_version": "1.5.0",
      "_model_name": "HTMLModel",
      "_view_count": null,
      "_view_module": "@jupyter-widgets/controls",
      "_view_module_version": "1.5.0",
      "_view_name": "HTMLView",
      "description": "",
      "description_tooltip": null,
      "layout": "IPY_MODEL_542ade372b2841e292a9ea4f8b0bda4f",
      "placeholder": "​",
      "style": "IPY_MODEL_e2bc7ea270a543fc86085c72a42e58df",
      "value": " 9920512/? [00:00&lt;00:00, 15421877.08it/s]"
     }
    },
    "dd0ba424e8864d2da4f9bbbbb28a5509": {
     "model_module": "@jupyter-widgets/base",
     "model_name": "LayoutModel",
     "state": {
      "_model_module": "@jupyter-widgets/base",
      "_model_module_version": "1.2.0",
      "_model_name": "LayoutModel",
      "_view_count": null,
      "_view_module": "@jupyter-widgets/base",
      "_view_module_version": "1.2.0",
      "_view_name": "LayoutView",
      "align_content": null,
      "align_items": null,
      "align_self": null,
      "border": null,
      "bottom": null,
      "display": null,
      "flex": null,
      "flex_flow": null,
      "grid_area": null,
      "grid_auto_columns": null,
      "grid_auto_flow": null,
      "grid_auto_rows": null,
      "grid_column": null,
      "grid_gap": null,
      "grid_row": null,
      "grid_template_areas": null,
      "grid_template_columns": null,
      "grid_template_rows": null,
      "height": null,
      "justify_content": null,
      "justify_items": null,
      "left": null,
      "margin": null,
      "max_height": null,
      "max_width": null,
      "min_height": null,
      "min_width": null,
      "object_fit": null,
      "object_position": null,
      "order": null,
      "overflow": null,
      "overflow_x": null,
      "overflow_y": null,
      "padding": null,
      "right": null,
      "top": null,
      "visibility": null,
      "width": null
     }
    },
    "e2bc7ea270a543fc86085c72a42e58df": {
     "model_module": "@jupyter-widgets/controls",
     "model_name": "DescriptionStyleModel",
     "state": {
      "_model_module": "@jupyter-widgets/controls",
      "_model_module_version": "1.5.0",
      "_model_name": "DescriptionStyleModel",
      "_view_count": null,
      "_view_module": "@jupyter-widgets/base",
      "_view_module_version": "1.2.0",
      "_view_name": "StyleView",
      "description_width": ""
     }
    },
    "eb3f181b7e3d4d1dad440f02fe358f30": {
     "model_module": "@jupyter-widgets/base",
     "model_name": "LayoutModel",
     "state": {
      "_model_module": "@jupyter-widgets/base",
      "_model_module_version": "1.2.0",
      "_model_name": "LayoutModel",
      "_view_count": null,
      "_view_module": "@jupyter-widgets/base",
      "_view_module_version": "1.2.0",
      "_view_name": "LayoutView",
      "align_content": null,
      "align_items": null,
      "align_self": null,
      "border": null,
      "bottom": null,
      "display": null,
      "flex": null,
      "flex_flow": null,
      "grid_area": null,
      "grid_auto_columns": null,
      "grid_auto_flow": null,
      "grid_auto_rows": null,
      "grid_column": null,
      "grid_gap": null,
      "grid_row": null,
      "grid_template_areas": null,
      "grid_template_columns": null,
      "grid_template_rows": null,
      "height": null,
      "justify_content": null,
      "justify_items": null,
      "left": null,
      "margin": null,
      "max_height": null,
      "max_width": null,
      "min_height": null,
      "min_width": null,
      "object_fit": null,
      "object_position": null,
      "order": null,
      "overflow": null,
      "overflow_x": null,
      "overflow_y": null,
      "padding": null,
      "right": null,
      "top": null,
      "visibility": null,
      "width": null
     }
    },
    "fcd5959bf1a246a5a3aef748b896e797": {
     "model_module": "@jupyter-widgets/controls",
     "model_name": "DescriptionStyleModel",
     "state": {
      "_model_module": "@jupyter-widgets/controls",
      "_model_module_version": "1.5.0",
      "_model_name": "DescriptionStyleModel",
      "_view_count": null,
      "_view_module": "@jupyter-widgets/base",
      "_view_module_version": "1.2.0",
      "_view_name": "StyleView",
      "description_width": ""
     }
    },
    "feaa4d188b044f369859a8d12145acd8": {
     "model_module": "@jupyter-widgets/base",
     "model_name": "LayoutModel",
     "state": {
      "_model_module": "@jupyter-widgets/base",
      "_model_module_version": "1.2.0",
      "_model_name": "LayoutModel",
      "_view_count": null,
      "_view_module": "@jupyter-widgets/base",
      "_view_module_version": "1.2.0",
      "_view_name": "LayoutView",
      "align_content": null,
      "align_items": null,
      "align_self": null,
      "border": null,
      "bottom": null,
      "display": null,
      "flex": null,
      "flex_flow": null,
      "grid_area": null,
      "grid_auto_columns": null,
      "grid_auto_flow": null,
      "grid_auto_rows": null,
      "grid_column": null,
      "grid_gap": null,
      "grid_row": null,
      "grid_template_areas": null,
      "grid_template_columns": null,
      "grid_template_rows": null,
      "height": null,
      "justify_content": null,
      "justify_items": null,
      "left": null,
      "margin": null,
      "max_height": null,
      "max_width": null,
      "min_height": null,
      "min_width": null,
      "object_fit": null,
      "object_position": null,
      "order": null,
      "overflow": null,
      "overflow_x": null,
      "overflow_y": null,
      "padding": null,
      "right": null,
      "top": null,
      "visibility": null,
      "width": null
     }
    }
   }
  }
 },
 "nbformat": 4,
 "nbformat_minor": 1
}
