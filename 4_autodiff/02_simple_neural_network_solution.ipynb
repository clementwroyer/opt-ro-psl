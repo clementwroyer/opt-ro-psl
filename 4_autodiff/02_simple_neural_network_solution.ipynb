{
 "cells": [
  {
   "cell_type": "markdown",
   "metadata": {},
   "source": [
    "# Simple neural network\n",
    "\n",
    "\n",
    "In this notebook, we are going to create and train a simple neural network on the digits dataset using pytorch."
   ]
  },
  {
   "cell_type": "code",
   "execution_count": 1,
   "metadata": {},
   "outputs": [],
   "source": [
    "import torch\n",
    "import numpy as np\n",
    "import matplotlib.pyplot as plt\n",
    "\n",
    "from sklearn.datasets import load_digits\n",
    "from sklearn.model_selection import train_test_split"
   ]
  },
  {
   "cell_type": "markdown",
   "metadata": {},
   "source": [
    "First, we need to load the data and make them into pytorch tensors."
   ]
  },
  {
   "cell_type": "code",
   "execution_count": 2,
   "metadata": {
    "scrolled": true
   },
   "outputs": [
    {
     "data": {
      "image/png": "[encoded data removed]",
      "text/plain": [
       "<Figure size 432x288 with 3 Axes>"
      ]
     },
     "metadata": {
      "needs_background": "light"
     },
     "output_type": "display_data"
    }
   ],
   "source": [
    "X, y = load_digits(return_X_y=True)\n",
    "\n",
    "# Normalize\n",
    "\n",
    "X -= X.mean(axis=0)\n",
    "X /= np.std(X)\n",
    "X_train, X_test, y_train, y_test = train_test_split(X, y)\n",
    "\n",
    "f, axes = plt.subplots(1, 3)\n",
    "for i, axe in enumerate(axes):\n",
    "    axe.imshow(X[i].reshape(8, 8))\n",
    "\n",
    "x = torch.tensor(X_train).float()\n",
    "y = torch.tensor(y_train).long()\n",
    "n, p = x.shape\n",
    "x_test = torch.tensor(X_test).float()\n",
    "y_test = torch.tensor(y_test).long()"
   ]
  },
  {
   "cell_type": "markdown",
   "metadata": {},
   "source": [
    "# Define the network\n",
    "\n",
    "We will work with a simple network with two layers (one hidden layer).\n",
    "\n",
    "The input $x$ is transformed into the output $z$ by the following operations:\n",
    "\n",
    "$$y = \\tanh(W_1x + b_1)$$\n",
    "$$z = W_2y + b_2$$\n",
    "\n",
    "**Exercise 1**: Define a function `net(x, W1, b1, W2, b2)` that implements this transform. Remember that `x` is a matrix of size $n\\times p$"
   ]
  },
  {
   "cell_type": "code",
   "execution_count": 3,
   "metadata": {},
   "outputs": [],
   "source": [
    "def net(x, W1, b1, W2, b2):\n",
    "    y = torch.mm(x, W1.t()) + b1\n",
    "    y = torch.tanh(y)\n",
    "    z =  torch.mm(y, W2.t()) + b2\n",
    "    return z"
   ]
  },
  {
   "cell_type": "markdown",
   "metadata": {},
   "source": [
    "Next, let us specify the parameters of the network, `W1, b1, W2, b2`. You can chose the size of the hidden layer, but the input and output sizes are determined by the problem.\n",
    "\n",
    "**Exercise 2**: Define a set of parameters `W1, b1, W2, b2`, where you chose the size of the hidden layer. Make sure that all these parameters have their `requires_grad` flag set to true, so that we can compute the gradient with respect to them.\n",
    "\n",
    "In order to check that eveything works, compute `net(x, W1, b1, W2, b2)`."
   ]
  },
  {
   "cell_type": "code",
   "execution_count": 4,
   "metadata": {},
   "outputs": [],
   "source": [
    "hidden_size = 20\n",
    "input_size = 64\n",
    "output_size = 10\n",
    "\n",
    "W1 = torch.randn(hidden_size, input_size)\n",
    "b1 = torch.randn(hidden_size)\n",
    "W2 = torch.randn(output_size, hidden_size)\n",
    "b2 = torch.randn(output_size)\n",
    "\n",
    "parameters = (W1, b1, W2, b2)\n",
    "\n",
    "output = net(x, W1, b1, W2, b2)"
   ]
  },
  {
   "cell_type": "markdown",
   "metadata": {},
   "source": [
    "Next, we will define a cost function. We will use the classical cross entropy loss. It is imported from pytorch in the next cell."
   ]
  },
  {
   "cell_type": "code",
   "execution_count": 5,
   "metadata": {},
   "outputs": [],
   "source": [
    "from torch.nn.functional import cross_entropy"
   ]
  },
  {
   "cell_type": "markdown",
   "metadata": {},
   "source": [
    "In order to compute the gradient with respect to the parameters $W_1, W_2, b_1, b_2$, we will tell pytorch that we need to accumulate gradients by settings their `requires_grad` to `True`:"
   ]
  },
  {
   "cell_type": "code",
   "execution_count": 6,
   "metadata": {},
   "outputs": [],
   "source": [
    "for parameter in parameters:\n",
    "    parameter.requires_grad = True"
   ]
  },
  {
   "cell_type": "markdown",
   "metadata": {},
   "source": [
    "**Exercise 3**: Compute the current loss of the network, and then back-propagate to compute the gradient with respect to the parameters. Check the gradient with respect to W1."
   ]
  },
  {
   "cell_type": "code",
   "execution_count": 7,
   "metadata": {
    "scrolled": true
   },
   "outputs": [
    {
     "name": "stdout",
     "output_type": "stream",
     "text": [
      "8.224804878234863\n",
      "tensor([[ 0.0000,  0.0067,  0.0400,  ..., -0.0020,  0.0289,  0.0121],\n",
      "        [ 0.0000,  0.0095,  0.0866,  ...,  0.0346,  0.0372,  0.0115],\n",
      "        [ 0.0000, -0.0010,  0.0069,  ..., -0.0146, -0.0225, -0.0061],\n",
      "        ...,\n",
      "        [ 0.0000, -0.0008, -0.0064,  ..., -0.0344, -0.0089, -0.0003],\n",
      "        [ 0.0000,  0.0011,  0.0177,  ...,  0.0147, -0.0167, -0.0071],\n",
      "        [ 0.0000,  0.0046,  0.0131,  ..., -0.0104, -0.0080, -0.0039]])\n"
     ]
    }
   ],
   "source": [
    "output = net(x, W1, b1, W2, b2)\n",
    "loss = cross_entropy(output, y)\n",
    "print(loss.item())\n",
    "loss.backward()\n",
    "print(W1.grad)"
   ]
  },
  {
   "cell_type": "markdown",
   "metadata": {},
   "source": [
    "We are almost ready to train our network!\n",
    "\n",
    "But first, we will need to compute the accuracy of the network, on the train and test set.\n",
    "\n",
    "**Exercise 4**: Define a function `accuracy(X, y, W1, b1, W2, b2)` that computes the accuracy of the network on the dataset `x`with true labels `y`. Remember that the predicted class at the output of the network is computed as the argmaximum of the output. Compute the current accuracy of the network on the train set. Is it normal ?"
   ]
  },
  {
   "cell_type": "code",
   "execution_count": 8,
   "metadata": {
    "slideshow": {
     "slide_type": "subslide"
    }
   },
   "outputs": [
    {
     "data": {
      "text/plain": [
       "0.0935412026726058"
      ]
     },
     "execution_count": 8,
     "metadata": {},
     "output_type": "execute_result"
    }
   ],
   "source": [
    "def accuracy(X, y, W1, b1, W2, b2):\n",
    "    output = net(X, W1, b1, W2, b2)\n",
    "    pred = output.argmax(axis=1)\n",
    "    return (pred == y).sum().item() / len(y)\n",
    "\n",
    "\n",
    "accuracy(x, y, W1, b1, W2, b2)"
   ]
  },
  {
   "cell_type": "markdown",
   "metadata": {},
   "source": [
    "# Training the network\n",
    "\n",
    "We are now ready to train the network, using back-propagation and stochastic gradient descent.\n",
    "First, we define the number of iterations of the algorithm, the step size, and the batch size. We also reinitialize the weights. Finally, we will store the train and test accuracy during the training."
   ]
  },
  {
   "cell_type": "code",
   "execution_count": 9,
   "metadata": {},
   "outputs": [],
   "source": [
    "n_iter = 1000\n",
    "step_size = 0.1\n",
    "batch_size = 64\n",
    "\n",
    "\n",
    "test_list = []\n",
    "train_list = []"
   ]
  },
  {
   "cell_type": "markdown",
   "metadata": {},
   "source": [
    "**Exercise 5**: Complete the following training list, so that each parameter is updated at each iteration.\n",
    "\n",
    "Remember that at each iteration, you should:\n",
    "* compute the output of the network with respect to the batch\n",
    "* Compute the loss, and backpropagate\n",
    "* Update each parameter with gradient descent\n",
    "* Refresh the gradient of each parameter. To do so, you can do:\n",
    "\n",
    "```\n",
    "parameter.grad.data.zero_()\n",
    "```"
   ]
  },
  {
   "cell_type": "code",
   "execution_count": 10,
   "metadata": {
    "scrolled": true
   },
   "outputs": [
    {
     "name": "stdout",
     "output_type": "stream",
     "text": [
      "Iteration 0 Train loss: 7.732 Train acc: 0.098 Test acc 0.109\n",
      "Iteration 10 Train loss: 5.248 Train acc: 0.149 Test acc 0.147\n",
      "Iteration 20 Train loss: 5.237 Train acc: 0.215 Test acc 0.211\n",
      "Iteration 30 Train loss: 3.281 Train acc: 0.281 Test acc 0.282\n",
      "Iteration 40 Train loss: 2.878 Train acc: 0.367 Test acc 0.340\n",
      "Iteration 50 Train loss: 2.426 Train acc: 0.445 Test acc 0.400\n",
      "Iteration 60 Train loss: 1.881 Train acc: 0.512 Test acc 0.442\n",
      "Iteration 70 Train loss: 1.846 Train acc: 0.549 Test acc 0.473\n",
      "Iteration 80 Train loss: 1.467 Train acc: 0.581 Test acc 0.518\n",
      "Iteration 90 Train loss: 1.305 Train acc: 0.607 Test acc 0.544\n",
      "Iteration 100 Train loss: 1.540 Train acc: 0.636 Test acc 0.573\n",
      "Iteration 110 Train loss: 1.066 Train acc: 0.659 Test acc 0.589\n",
      "Iteration 120 Train loss: 1.108 Train acc: 0.682 Test acc 0.607\n",
      "Iteration 130 Train loss: 0.895 Train acc: 0.699 Test acc 0.618\n",
      "Iteration 140 Train loss: 1.007 Train acc: 0.721 Test acc 0.640\n",
      "Iteration 150 Train loss: 0.708 Train acc: 0.737 Test acc 0.649\n",
      "Iteration 160 Train loss: 0.798 Train acc: 0.752 Test acc 0.660\n",
      "Iteration 170 Train loss: 0.932 Train acc: 0.761 Test acc 0.671\n",
      "Iteration 180 Train loss: 0.611 Train acc: 0.772 Test acc 0.682\n",
      "Iteration 190 Train loss: 0.771 Train acc: 0.782 Test acc 0.700\n",
      "Iteration 200 Train loss: 0.655 Train acc: 0.793 Test acc 0.704\n",
      "Iteration 210 Train loss: 0.650 Train acc: 0.803 Test acc 0.713\n",
      "Iteration 220 Train loss: 0.841 Train acc: 0.814 Test acc 0.722\n",
      "Iteration 230 Train loss: 0.566 Train acc: 0.821 Test acc 0.722\n",
      "Iteration 240 Train loss: 0.601 Train acc: 0.833 Test acc 0.729\n",
      "Iteration 250 Train loss: 0.454 Train acc: 0.838 Test acc 0.733\n",
      "Iteration 260 Train loss: 0.534 Train acc: 0.843 Test acc 0.736\n",
      "Iteration 270 Train loss: 0.519 Train acc: 0.849 Test acc 0.744\n",
      "Iteration 280 Train loss: 0.396 Train acc: 0.855 Test acc 0.756\n",
      "Iteration 290 Train loss: 0.340 Train acc: 0.857 Test acc 0.756\n",
      "Iteration 300 Train loss: 0.418 Train acc: 0.860 Test acc 0.762\n",
      "Iteration 310 Train loss: 0.283 Train acc: 0.863 Test acc 0.776\n",
      "Iteration 320 Train loss: 0.596 Train acc: 0.867 Test acc 0.773\n",
      "Iteration 330 Train loss: 0.285 Train acc: 0.877 Test acc 0.782\n",
      "Iteration 340 Train loss: 0.467 Train acc: 0.878 Test acc 0.782\n",
      "Iteration 350 Train loss: 0.336 Train acc: 0.880 Test acc 0.787\n",
      "Iteration 360 Train loss: 0.434 Train acc: 0.883 Test acc 0.787\n",
      "Iteration 370 Train loss: 0.334 Train acc: 0.886 Test acc 0.789\n",
      "Iteration 380 Train loss: 0.582 Train acc: 0.885 Test acc 0.789\n",
      "Iteration 390 Train loss: 0.360 Train acc: 0.887 Test acc 0.793\n",
      "Iteration 400 Train loss: 0.388 Train acc: 0.889 Test acc 0.784\n",
      "Iteration 410 Train loss: 0.228 Train acc: 0.889 Test acc 0.793\n",
      "Iteration 420 Train loss: 0.425 Train acc: 0.892 Test acc 0.798\n",
      "Iteration 430 Train loss: 0.301 Train acc: 0.895 Test acc 0.807\n",
      "Iteration 440 Train loss: 0.219 Train acc: 0.898 Test acc 0.807\n",
      "Iteration 450 Train loss: 0.305 Train acc: 0.899 Test acc 0.811\n",
      "Iteration 460 Train loss: 0.341 Train acc: 0.903 Test acc 0.807\n",
      "Iteration 470 Train loss: 0.392 Train acc: 0.903 Test acc 0.807\n",
      "Iteration 480 Train loss: 0.326 Train acc: 0.909 Test acc 0.811\n",
      "Iteration 490 Train loss: 0.215 Train acc: 0.909 Test acc 0.811\n",
      "Iteration 500 Train loss: 0.294 Train acc: 0.909 Test acc 0.813\n",
      "Iteration 510 Train loss: 0.413 Train acc: 0.910 Test acc 0.818\n",
      "Iteration 520 Train loss: 0.213 Train acc: 0.912 Test acc 0.816\n",
      "Iteration 530 Train loss: 0.265 Train acc: 0.912 Test acc 0.816\n",
      "Iteration 540 Train loss: 0.185 Train acc: 0.914 Test acc 0.816\n",
      "Iteration 550 Train loss: 0.152 Train acc: 0.915 Test acc 0.816\n",
      "Iteration 560 Train loss: 0.213 Train acc: 0.916 Test acc 0.816\n",
      "Iteration 570 Train loss: 0.291 Train acc: 0.918 Test acc 0.813\n",
      "Iteration 580 Train loss: 0.357 Train acc: 0.919 Test acc 0.818\n",
      "Iteration 590 Train loss: 0.377 Train acc: 0.924 Test acc 0.818\n",
      "Iteration 600 Train loss: 0.296 Train acc: 0.927 Test acc 0.818\n",
      "Iteration 610 Train loss: 0.337 Train acc: 0.928 Test acc 0.822\n",
      "Iteration 620 Train loss: 0.318 Train acc: 0.928 Test acc 0.824\n",
      "Iteration 630 Train loss: 0.237 Train acc: 0.928 Test acc 0.827\n",
      "Iteration 640 Train loss: 0.135 Train acc: 0.930 Test acc 0.827\n",
      "Iteration 650 Train loss: 0.270 Train acc: 0.932 Test acc 0.824\n",
      "Iteration 660 Train loss: 0.145 Train acc: 0.933 Test acc 0.822\n",
      "Iteration 670 Train loss: 0.159 Train acc: 0.932 Test acc 0.822\n",
      "Iteration 680 Train loss: 0.281 Train acc: 0.933 Test acc 0.827\n",
      "Iteration 690 Train loss: 0.348 Train acc: 0.935 Test acc 0.827\n",
      "Iteration 700 Train loss: 0.160 Train acc: 0.935 Test acc 0.827\n",
      "Iteration 710 Train loss: 0.163 Train acc: 0.935 Test acc 0.827\n",
      "Iteration 720 Train loss: 0.150 Train acc: 0.936 Test acc 0.827\n",
      "Iteration 730 Train loss: 0.225 Train acc: 0.938 Test acc 0.831\n",
      "Iteration 740 Train loss: 0.234 Train acc: 0.938 Test acc 0.833\n",
      "Iteration 750 Train loss: 0.190 Train acc: 0.938 Test acc 0.831\n",
      "Iteration 760 Train loss: 0.151 Train acc: 0.937 Test acc 0.827\n",
      "Iteration 770 Train loss: 0.313 Train acc: 0.938 Test acc 0.831\n",
      "Iteration 780 Train loss: 0.367 Train acc: 0.941 Test acc 0.824\n",
      "Iteration 790 Train loss: 0.089 Train acc: 0.940 Test acc 0.829\n",
      "Iteration 800 Train loss: 0.175 Train acc: 0.940 Test acc 0.829\n",
      "Iteration 810 Train loss: 0.221 Train acc: 0.941 Test acc 0.829\n",
      "Iteration 820 Train loss: 0.172 Train acc: 0.943 Test acc 0.829\n",
      "Iteration 830 Train loss: 0.164 Train acc: 0.945 Test acc 0.831\n",
      "Iteration 840 Train loss: 0.175 Train acc: 0.945 Test acc 0.831\n",
      "Iteration 850 Train loss: 0.118 Train acc: 0.944 Test acc 0.833\n",
      "Iteration 860 Train loss: 0.261 Train acc: 0.945 Test acc 0.833\n",
      "Iteration 870 Train loss: 0.221 Train acc: 0.944 Test acc 0.833\n",
      "Iteration 880 Train loss: 0.192 Train acc: 0.947 Test acc 0.833\n",
      "Iteration 890 Train loss: 0.209 Train acc: 0.948 Test acc 0.836\n",
      "Iteration 900 Train loss: 0.210 Train acc: 0.950 Test acc 0.840\n",
      "Iteration 910 Train loss: 0.071 Train acc: 0.952 Test acc 0.842\n",
      "Iteration 920 Train loss: 0.192 Train acc: 0.951 Test acc 0.842\n",
      "Iteration 930 Train loss: 0.158 Train acc: 0.951 Test acc 0.844\n",
      "Iteration 940 Train loss: 0.130 Train acc: 0.953 Test acc 0.844\n",
      "Iteration 950 Train loss: 0.165 Train acc: 0.955 Test acc 0.844\n",
      "Iteration 960 Train loss: 0.134 Train acc: 0.955 Test acc 0.842\n",
      "Iteration 970 Train loss: 0.154 Train acc: 0.956 Test acc 0.844\n",
      "Iteration 980 Train loss: 0.147 Train acc: 0.955 Test acc 0.844\n",
      "Iteration 990 Train loss: 0.150 Train acc: 0.955 Test acc 0.853\n"
     ]
    }
   ],
   "source": [
    "for i in range(n_iter):\n",
    "    batch_idx = torch.randperm(n)[:batch_size]\n",
    "    x_batch = x[batch_idx]\n",
    "    y_batch = y[batch_idx]\n",
    "    output = net(x_batch, W1, b1, W2, b2)\n",
    "    loss = cross_entropy(output, y_batch)\n",
    "    loss.backward()\n",
    "    with torch.no_grad():\n",
    "        for parameter in parameters:\n",
    "            parameter -= step_size * parameter.grad\n",
    "            parameter.grad.data.zero_()\n",
    "    if i % 10 == 0:\n",
    "        with torch.no_grad():\n",
    "            train_acc = accuracy(x, y, W1, b1, W2, b2)\n",
    "            test_acc = accuracy(x_test, y_test, W1, b1, W2, b2)\n",
    "        test_list.append(test_acc)\n",
    "        train_list.append(train_acc)\n",
    "        print('Iteration {} Train loss: {:1.3f} Train acc: {:1.3f} Test acc {:1.3f}'.format(i, loss.item(), train_acc, test_acc))"
   ]
  },
  {
   "cell_type": "markdown",
   "metadata": {},
   "source": [
    "**Exercise 6**: Display the learning curves. You can then play with the network and training parameters:\n",
    "what happens when you change the learning rate, the number of hidden sizes, etc?"
   ]
  },
  {
   "cell_type": "code",
   "execution_count": 11,
   "metadata": {},
   "outputs": [
    {
     "data": {
      "text/plain": [
       "<matplotlib.legend.Legend at 0x7f41e4727990>"
      ]
     },
     "execution_count": 11,
     "metadata": {},
     "output_type": "execute_result"
    },
    {
     "data": {
      "image/png": "[encoded data removed]",
      "text/plain": [
       "<Figure size 432x288 with 1 Axes>"
      ]
     },
     "metadata": {
      "needs_background": "light"
     },
     "output_type": "display_data"
    }
   ],
   "source": [
    "plt.plot(test_list, label='test')\n",
    "plt.plot(train_list, label='train')\n",
    "\n",
    "plt.ylabel('Accuracy')\n",
    "plt.xlabel('Iterations')\n",
    "plt.legend()"
   ]
  }
 ],
 "metadata": {
  "kernelspec": {
   "display_name": "Python 3",
   "language": "python",
   "name": "python3"
  },
  "language_info": {
   "codemirror_mode": {
    "name": "ipython",
    "version": 3
   },
   "file_extension": ".py",
   "mimetype": "text/x-python",
   "name": "python",
   "nbconvert_exporter": "python",
   "pygments_lexer": "ipython3",
   "version": "3.7.7"
  }
 },
 "nbformat": 4,
 "nbformat_minor": 4
}
